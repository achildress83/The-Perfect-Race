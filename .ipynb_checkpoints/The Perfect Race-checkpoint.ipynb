{
 "cells": [
  {
   "cell_type": "markdown",
   "metadata": {},
   "source": [
    "\n",
    "## The Perfect Race: Effects of age and wind in Men' s fastest 100m races\n",
    "\n",
    "Contributors: Anesu Masube and Aaron Childress\n",
    "\n",
    "Table of Contents\n",
    "\n",
    "1. Problem Statement\n",
    "2. Data Sources\n",
    "3. Data Collection\n",
    "4. Hypothesis Test I\n",
    "5. Hypothesis Test II\n",
    "6. Findings and Analysis\n",
    "7. Recommendations"
   ]
  },
  {
   "cell_type": "code",
   "execution_count": 1,
   "metadata": {},
   "outputs": [],
   "source": [
    "#Import libraries\n",
    "\n",
    "import numpy as np\n",
    "import pandas as pd\n",
    "import matplotlib.pyplot as plt\n",
    "%matplotlib inline\n",
    "import seaborn as sns\n",
    "from bs4 import BeautifulSoup\n",
    "import requests\n",
    "from scipy import stats\n",
    "import statsmodels.api as sm\n",
    "from statsmodels.formula.api import ols\n",
    " "
   ]
  },
  {
   "cell_type": "markdown",
   "metadata": {},
   "source": [
    "## Problem Statement\n",
    "\n",
    "The 100m sprint is arguable the purest display of raw athletic ability and there are many variables that impact the perfect race. Athletes train their whole lives to reach the highest level. We want to know how much of a factor father time (age) and mother nature (tailwind) are when it comes to running the perfect race. We plan to conduct 3 Hypothesis tests as outlined below:\n",
    "\n",
    "1. Tailwind. We seek to answer whether tailwind has a statistically significant effect on race times \n",
    "2. Age. We seek to answer whether age has a statistically significant effect on race times\n"
   ]
  },
  {
   "cell_type": "markdown",
   "metadata": {},
   "source": [
    "## Data Sources"
   ]
  },
  {
   "cell_type": "markdown",
   "metadata": {},
   "source": [
    "We scraped data from alltime-athletics.com. The data set is called \"All-time men's best 100m\". This data set contains over 3000 records of the fastest men's 100 meter times ever recorded. Worthy of note, these are not necessarily winning times. "
   ]
  },
  {
   "cell_type": "markdown",
   "metadata": {},
   "source": [
    "## Data Cleaning"
   ]
  },
  {
   "cell_type": "markdown",
   "metadata": {},
   "source": [
    "## Hypothesis Test 1 - Tail wind"
   ]
  },
  {
   "cell_type": "markdown",
   "metadata": {},
   "source": [
    "## Hypothesis Test 2 - Age"
   ]
  },
  {
   "cell_type": "markdown",
   "metadata": {},
   "source": [
    "## Findings and Analysis"
   ]
  },
  {
   "cell_type": "markdown",
   "metadata": {},
   "source": [
    "## Recomendations"
   ]
  },
  {
   "cell_type": "code",
   "execution_count": null,
   "metadata": {},
   "outputs": [],
   "source": []
  }
 ],
 "metadata": {
  "kernelspec": {
   "display_name": "Python 3",
   "language": "python",
   "name": "python3"
  },
  "language_info": {
   "codemirror_mode": {
    "name": "ipython",
    "version": 3
   },
   "file_extension": ".py",
   "mimetype": "text/x-python",
   "name": "python",
   "nbconvert_exporter": "python",
   "pygments_lexer": "ipython3",
   "version": "3.7.3"
  }
 },
 "nbformat": 4,
 "nbformat_minor": 2
}
