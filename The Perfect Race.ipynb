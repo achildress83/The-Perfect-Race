{
 "cells": [
  {
   "cell_type": "markdown",
   "metadata": {},
   "source": [
    "\n",
    "## The Perfect Race: Effects of age and wind in Men' s fastest 100m races\n",
    "\n",
    "Contributors: Anesu Masube and Aaron Childress\n",
    "\n",
    "Table of Contents\n",
    "\n",
    "1. Problem Statement\n",
    "2. Data Sources\n",
    "3. Data Collection\n",
    "4. Hypothesis Test I\n",
    "5. Hypothesis Test II\n",
    "6. Findings and Analysis\n",
    "7. Recommendations"
   ]
  },
  {
   "cell_type": "code",
   "execution_count": 40,
   "metadata": {},
   "outputs": [],
   "source": [
    "#Import libraries\n",
    "\n",
    "\n",
    "import numpy as np\n",
    "import pandas as pd\n",
    "import matplotlib.pyplot as plt\n",
    "%matplotlib inline\n",
    "import seaborn as sns\n",
    "from bs4 import BeautifulSoup\n",
    "import requests\n",
    "from scipy import stats\n",
    "import statsmodels.api as sm\n",
    "from statsmodels.formula.api import ols\n",
    " "
   ]
  },
  {
   "cell_type": "markdown",
   "metadata": {},
   "source": [
    "## Problem Statement\n",
    "\n",
    "The 100m sprint is arguable the purest display of raw athletic ability and there are many variables that impact the perfect race. Athletes train their whole lives to reach the highest level. We want to know how much of a factor father time (age) and mother nature (tailwind) are when it comes to running the perfect race. We plan to conduct 3 Hypothesis tests as outlined below:\n",
    "\n",
    "1. Tailwind. We seek to answer whether tailwind has a statistically significant effect on race times \n",
    "2. Age. We seek to answer whether age has a statistically significant effect on race times\n"
   ]
  },
  {
   "cell_type": "markdown",
   "metadata": {},
   "source": [
    "## Data Sources"
   ]
  },
  {
   "cell_type": "markdown",
   "metadata": {},
   "source": [
    "We scraped data from alltime-athletics.com. The data set is called \"All-time men's best 100m\". This data set contains over 3000 records of the fastest men's 100 meter times ever recorded. Worthy of note, these are not necessarily winning times. "
   ]
  },
  {
   "cell_type": "markdown",
   "metadata": {},
   "source": [
    "## Data Cleaning"
   ]
  },
  {
   "cell_type": "code",
   "execution_count": 41,
   "metadata": {},
   "outputs": [],
   "source": [
    "%run ../ "
   ]
  },
  {
   "cell_type": "code",
   "execution_count": null,
   "metadata": {},
   "outputs": [],
   "source": [
    "%run  ../"
   ]
  },
  {
   "cell_type": "markdown",
   "metadata": {},
   "source": [
    "After accessing the data from alltime-athletics.com, we scrapped the data to access specifically the columns that we needed for the analysis and these included, 1. The fastest run times 2. Dates which these times were achieved 3. Date of birth of the respective runners 4. Country of origin 5. Tail wind on the day of the race. We transformed and cleaned the data and created an additional age column \n"
   ]
  },
  {
   "cell_type": "code",
   "execution_count": 42,
   "metadata": {},
   "outputs": [],
   "source": [
    "# Clean Men's 100m data set "
   ]
  },
  {
   "cell_type": "markdown",
   "metadata": {},
   "source": [
    "# Hypothesis Testing"
   ]
  },
  {
   "cell_type": "markdown",
   "metadata": {},
   "source": [
    "### Initial 2 way Anova Test for both wind and age"
   ]
  },
  {
   "cell_type": "markdown",
   "metadata": {},
   "source": [
    "To do an intial test of our data during EDA we did an 2 way ANOVA Test to test the influence of tailwind and age on winning times. From this initial analysis the p-value of both tail wind and age was less than alpha which we set to 0.05 and hence rejected the null hypothesis. We decided to take a deeper anlysis of each variable as explained below"
   ]
  },
  {
   "cell_type": "code",
   "execution_count": 43,
   "metadata": {},
   "outputs": [
    {
     "name": "stdout",
     "output_type": "stream",
     "text": [
      "              sum_sq      df          F    PR(>F)\n",
      "tail_wind   0.019475     1.0   3.894700  0.048537\n",
      "age         0.064832     1.0  12.965481  0.000323\n",
      "Residual   14.036094  2807.0        NaN       NaN\n"
     ]
    }
   ],
   "source": [
    "#ANOVA Test to test the influence of tailwind and age on winning times \n",
    "\n",
    "#stats.f_oneway(df.winning_times, df.tail_wind, df.age)\n",
    "formula = 'winning_times ~ tail_wind + age'\n",
    "lm = ols(formula, df).fit()\n",
    "table = sm.stats.anova_lm(lm, typ=2)\n",
    "print(table)"
   ]
  },
  {
   "cell_type": "markdown",
   "metadata": {},
   "source": [
    "### Hypothesis 1- Tailwind"
   ]
  },
  {
   "cell_type": "markdown",
   "metadata": {},
   "source": [
    "$H_{0}$: There is no difference in the mean of runtimes with different tail wind or head winds. i.e. $\\mu_{0} = \\mu_{1}$\n",
    "\n",
    "$H_{1}$: There is a significant difference in mean between the runtimes of races with differend tail or head winds "
   ]
  },
  {
   "cell_type": "markdown",
   "metadata": {},
   "source": [
    "After setting up a signifince level of 0.05 we tested the above assumptions by creating 2 groups of the 3000 fastest ever legally recorded times 1 group with a positive tailwind (>=0 m/s) and another with a head wind of (< 0 m/s). We conducted a Welch Ts test and found the p value to be less than the alpha hecne we reject the null hypothesis. Additionally we plotted the fastest times of each tailwind and came up with a linear regression which shows how speed increases and tailwind increases "
   ]
  },
  {
   "cell_type": "code",
   "execution_count": 57,
   "metadata": {},
   "outputs": [],
   "source": [
    "# Accessing cleaned Men's 100m dataframe\n",
    "\n",
    "df=pd.read_csv('df.csv', index_col='date')\n",
    "df.index = pd.to_datetime(df.index)\n",
    "df['birth_date'] = pd.to_datetime(df['birth_date'])\n",
    "by_wind = df.sort_values(by='tail_wind')"
   ]
  },
  {
   "cell_type": "code",
   "execution_count": 45,
   "metadata": {},
   "outputs": [],
   "source": [
    "length = len(by_wind.index)\n",
    "if length%2 == 0:\n",
    "    h1 = int(length/2)\n",
    "else:\n",
    "    h1 = int(round(length/2))"
   ]
  },
  {
   "cell_type": "code",
   "execution_count": 46,
   "metadata": {},
   "outputs": [
    {
     "data": {
      "text/plain": [
       "Ttest_indResult(statistic=2.114203109673011, pvalue=0.03470402297231195)"
      ]
     },
     "execution_count": 46,
     "metadata": {},
     "output_type": "execute_result"
    }
   ],
   "source": [
    "less_wind = by_wind[\"tail_wind\"] < 0\n",
    "more_wind = by_wind[\"tail_wind\"] >= 0\n",
    "tw_strong = by_wind[more_wind]\n",
    "exp = np.array(tw_strong.winning_times)\n",
    "tw_weak = by_wind[less_wind]\n",
    "\n",
    "stats.ttest_ind(tw_weak.winning_times,tw_strong.winning_times, equal_var = False)"
   ]
  },
  {
   "cell_type": "code",
   "execution_count": 47,
   "metadata": {},
   "outputs": [
    {
     "data": {
      "text/plain": [
       "<matplotlib.axes._subplots.AxesSubplot at 0x1c203420f0>"
      ]
     },
     "execution_count": 47,
     "metadata": {},
     "output_type": "execute_result"
    },
    {
     "data": {
      "image/png": "[encoded data removed]",
      "text/plain": [
       "<Figure size 720x432 with 1 Axes>"
      ]
     },
     "metadata": {
      "needs_background": "light"
     },
     "output_type": "display_data"
    }
   ],
   "source": [
    "#Visualizations Related to Tailwind Testing \n",
    "\n",
    "min_bywind=by_wind.groupby('tail_wind')['winning_times'].min()\n",
    "\n",
    "x = np.array(min_bywind.index)\n",
    "y = np.array(min_bywind)\n",
    "\n",
    "figure = plt.figure(figsize = (10, 6))\n",
    "sns.regplot(x=x, y=y, color=\"orange\")"
   ]
  },
  {
   "cell_type": "markdown",
   "metadata": {},
   "source": [
    "### Hypothesis Test 2 - Age"
   ]
  },
  {
   "cell_type": "markdown",
   "metadata": {},
   "source": [
    "$H_{0}$: There is no difference in the mean of runtimes of the control age group which is 27-29 with the rest of the other age groups  i.e. $\\mu_{0} = \\mu_{1}$\n",
    "\n",
    "$H_{1}$: There is a significant difference in mean between the runtimes of races with different age groups"
   ]
  },
  {
   "cell_type": "markdown",
   "metadata": {},
   "source": [
    "Through EDA we plotteded the fastest times for each age and generated a parabolic pattern which enabled us to create a treatment age group of 27-29 years old as this was the age with the fastest times. We then conducted a Welch T test with other treatment age groups and the p value was 0.22 which is significantly above the alpha p-value hence from our hypothesis test fail to reject the null hypothesis "
   ]
  },
  {
   "cell_type": "code",
   "execution_count": 62,
   "metadata": {
    "scrolled": false
   },
   "outputs": [],
   "source": [
    "df['age_clean'] = df['age'].apply(lambda x: round(x,0))"
   ]
  },
  {
   "cell_type": "code",
   "execution_count": 63,
   "metadata": {},
   "outputs": [
    {
     "data": {
      "text/html": [
       "<div>\n",
       "<style scoped>\n",
       "    .dataframe tbody tr th:only-of-type {\n",
       "        vertical-align: middle;\n",
       "    }\n",
       "\n",
       "    .dataframe tbody tr th {\n",
       "        vertical-align: top;\n",
       "    }\n",
       "\n",
       "    .dataframe thead th {\n",
       "        text-align: right;\n",
       "    }\n",
       "</style>\n",
       "<table border=\"1\" class=\"dataframe\">\n",
       "  <thead>\n",
       "    <tr style=\"text-align: right;\">\n",
       "      <th></th>\n",
       "      <th>winning_times</th>\n",
       "      <th>tail_wind</th>\n",
       "      <th>birth_date</th>\n",
       "      <th>country</th>\n",
       "      <th>age</th>\n",
       "      <th>age_clean</th>\n",
       "    </tr>\n",
       "    <tr>\n",
       "      <th>date</th>\n",
       "      <th></th>\n",
       "      <th></th>\n",
       "      <th></th>\n",
       "      <th></th>\n",
       "      <th></th>\n",
       "      <th></th>\n",
       "    </tr>\n",
       "  </thead>\n",
       "  <tbody>\n",
       "    <tr>\n",
       "      <th>2013-04-28</th>\n",
       "      <td>10.01</td>\n",
       "      <td>0.9</td>\n",
       "      <td>1995-12-15</td>\n",
       "      <td>JPN</td>\n",
       "      <td>17.380822</td>\n",
       "      <td>17.0</td>\n",
       "    </tr>\n",
       "    <tr>\n",
       "      <th>2002-07-17</th>\n",
       "      <td>10.09</td>\n",
       "      <td>-0.6</td>\n",
       "      <td>1984-11-10</td>\n",
       "      <td>TTO</td>\n",
       "      <td>17.693151</td>\n",
       "      <td>18.0</td>\n",
       "    </tr>\n",
       "    <tr>\n",
       "      <th>2018-02-06</th>\n",
       "      <td>10.09</td>\n",
       "      <td>0.9</td>\n",
       "      <td>2000-05-09</td>\n",
       "      <td>USA</td>\n",
       "      <td>17.758904</td>\n",
       "      <td>18.0</td>\n",
       "    </tr>\n",
       "    <tr>\n",
       "      <th>2017-04-08</th>\n",
       "      <td>10.05</td>\n",
       "      <td>-0.6</td>\n",
       "      <td>1999-06-03</td>\n",
       "      <td>JPN</td>\n",
       "      <td>17.860274</td>\n",
       "      <td>18.0</td>\n",
       "    </tr>\n",
       "    <tr>\n",
       "      <th>2008-06-28</th>\n",
       "      <td>10.01</td>\n",
       "      <td>1.6</td>\n",
       "      <td>1990-08-01</td>\n",
       "      <td>USA</td>\n",
       "      <td>17.920548</td>\n",
       "      <td>18.0</td>\n",
       "    </tr>\n",
       "  </tbody>\n",
       "</table>\n",
       "</div>"
      ],
      "text/plain": [
       "            winning_times  tail_wind birth_date country        age  age_clean\n",
       "date                                                                         \n",
       "2013-04-28          10.01        0.9 1995-12-15     JPN  17.380822       17.0\n",
       "2002-07-17          10.09       -0.6 1984-11-10     TTO  17.693151       18.0\n",
       "2018-02-06          10.09        0.9 2000-05-09     USA  17.758904       18.0\n",
       "2017-04-08          10.05       -0.6 1999-06-03     JPN  17.860274       18.0\n",
       "2008-06-28          10.01        1.6 1990-08-01     USA  17.920548       18.0"
      ]
     },
     "execution_count": 63,
     "metadata": {},
     "output_type": "execute_result"
    }
   ],
   "source": [
    "df.head()"
   ]
  },
  {
   "cell_type": "code",
   "execution_count": 67,
   "metadata": {
    "scrolled": true
   },
   "outputs": [
    {
     "data": {
      "text/plain": [
       "age_clean\n",
       "17.0    10.01\n",
       "18.0    10.01\n",
       "19.0     9.97\n",
       "20.0     9.84\n",
       "21.0     9.82\n",
       "22.0     9.69\n",
       "23.0     9.58\n",
       "24.0     9.77\n",
       "25.0     9.72\n",
       "26.0     9.63\n",
       "27.0     9.69\n",
       "28.0     9.78\n",
       "29.0     9.78\n",
       "30.0     9.79\n",
       "31.0     9.80\n",
       "32.0     9.77\n",
       "33.0     9.74\n",
       "34.0     9.89\n",
       "35.0     9.92\n",
       "36.0     9.97\n",
       "37.0     9.87\n",
       "38.0     9.96\n",
       "39.0     9.98\n",
       "40.0     9.93\n",
       "Name: winning_times, dtype: float64"
      ]
     },
     "execution_count": 67,
     "metadata": {},
     "output_type": "execute_result"
    }
   ],
   "source": [
    "# Selecting the fastest time for each age \n",
    "by_age = df.groupby('age_clean')['winning_times'].min()\n",
    "by_age"
   ]
  },
  {
   "cell_type": "code",
   "execution_count": 68,
   "metadata": {},
   "outputs": [],
   "source": [
    "# Visualisations of the age effect \n",
    "x = np.array(by_age.index)\n",
    "y = np.array(by_age)\n"
   ]
  },
  {
   "cell_type": "markdown",
   "metadata": {},
   "source": [
    "## Quadriatic equation: degree 2\n",
    "### y = ax**2 + bx + c"
   ]
  },
  {
   "cell_type": "code",
   "execution_count": 69,
   "metadata": {},
   "outputs": [
    {
     "data": {
      "text/plain": [
       "array([ 2.15118577e-03, -1.19256719e-01,  1.13780215e+01])"
      ]
     },
     "execution_count": 69,
     "metadata": {},
     "output_type": "execute_result"
    }
   ],
   "source": [
    "# More visualizations\n",
    "min_age, max_age = int(x.min()), int(x.max())\n",
    "poly_coefficients = np.polyfit(x,y,2)\n",
    "poly_coefficients"
   ]
  },
  {
   "cell_type": "code",
   "execution_count": 70,
   "metadata": {
    "scrolled": true
   },
   "outputs": [
    {
     "data": {
      "image/png": "[encoded data removed]",
      "text/plain": [
       "<Figure size 864x576 with 1 Axes>"
      ]
     },
     "metadata": {
      "needs_background": "light"
     },
     "output_type": "display_data"
    }
   ],
   "source": [
    "x_new = np.linspace(min_age,max_age,100)\n",
    "y_new = np.poly1d(poly_coefficients)\n",
    "_=plt.figure(figsize = (12, 8))\n",
    "_=plt.plot(x_new,y_new(x_new),x,y,'o')"
   ]
  },
  {
   "cell_type": "code",
   "execution_count": 71,
   "metadata": {},
   "outputs": [
    {
     "name": "stdout",
     "output_type": "stream",
     "text": [
      "minimum of best fit curve is time of 9.725363043478266 and age 28. Therefore, we hypothesize optimal age range is 28+/-1 yr\n"
     ]
    }
   ],
   "source": [
    "lowest_time = y_new(min_age)\n",
    "best_age = min_age\n",
    "for age in range(min_age,max_age):\n",
    "    if lowest_time > y_new(age):\n",
    "        lowest_time = y_new(age)\n",
    "        best_age = age\n",
    "    \n",
    "print(f'minimum of best fit curve is time of {lowest_time} and age {best_age}. Therefore, we hypothesize optimal age range is 28+/-1 yr')"
   ]
  },
  {
   "cell_type": "code",
   "execution_count": 72,
   "metadata": {},
   "outputs": [
    {
     "data": {
      "text/plain": [
       "2501"
      ]
     },
     "execution_count": 72,
     "metadata": {},
     "output_type": "execute_result"
    }
   ],
   "source": [
    "other_ages = (df.age < 27) | (df.age > 29) #filter times for ages not 27-29\n",
    "ctrl_ages = np.array(df[other_ages].winning_times)\n",
    "len(ctrl_ages)"
   ]
  },
  {
   "cell_type": "code",
   "execution_count": 76,
   "metadata": {},
   "outputs": [
    {
     "data": {
      "text/plain": [
       "309"
      ]
     },
     "execution_count": 76,
     "metadata": {},
     "output_type": "execute_result"
    }
   ],
   "source": [
    "target_ages = (df.age >=27) & (df.age <=29) # filter times for ages 27-29\n",
    "expr_ages = np.array(df[target_ages].winning_times)\n",
    "len(expr_ages)"
   ]
  },
  {
   "cell_type": "code",
   "execution_count": 77,
   "metadata": {},
   "outputs": [
    {
     "data": {
      "text/plain": [
       "Ttest_indResult(statistic=1.2256981958196693, pvalue=0.22106171543260286)"
      ]
     },
     "execution_count": 77,
     "metadata": {},
     "output_type": "execute_result"
    }
   ],
   "source": [
    "#Welch's t-test\n",
    "stats.ttest_ind(ctrl_ages, expr_ages, equal_var=False)"
   ]
  },
  {
   "cell_type": "markdown",
   "metadata": {},
   "source": [
    "## Findings and Analysis"
   ]
  },
  {
   "attachments": {},
   "cell_type": "markdown",
   "metadata": {},
   "source": [
    "In conclusion here is what we found:\n",
    "\n",
    "1. **The Wind effect is real** -----Every 1m/s change in wind speed correlates with 0.07s change in time.  This a significant amount of effect to achieving the highest speeds and hence ablitiy to break the world records\n",
    "\n",
    "2. **There is clear indication of optimal age to run the fastest**---While there is a clear evidence of the best age group to achieve the fastest times, in our findings there is no clear evidence yet to suggest that age impacts running the fastest times. \n"
   ]
  },
  {
   "cell_type": "markdown",
   "metadata": {},
   "source": [
    "## Recomendations"
   ]
  },
  {
   "cell_type": "markdown",
   "metadata": {},
   "source": [
    "1. Indoor meets are preferred venue; headwinds can prevent new records.\n",
    "2. We need to conduct more deeper analysis on age to find the realationship between age and achieving the fastest times. e.g Chi squared tests \n",
    "3. Get more data for additional variables e.g training, shoes, competitors"
   ]
  },
  {
   "cell_type": "code",
   "execution_count": null,
   "metadata": {},
   "outputs": [],
   "source": []
  }
 ],
 "metadata": {
  "kernelspec": {
   "display_name": "Python 3",
   "language": "python",
   "name": "python3"
  },
  "language_info": {
   "codemirror_mode": {
    "name": "ipython",
    "version": 3
   },
   "file_extension": ".py",
   "mimetype": "text/x-python",
   "name": "python",
   "nbconvert_exporter": "python",
   "pygments_lexer": "ipython3",
   "version": "3.7.3"
  }
 },
 "nbformat": 4,
 "nbformat_minor": 2
}
