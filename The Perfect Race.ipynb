{
 "cells": [
  {
   "cell_type": "markdown",
   "metadata": {},
   "source": [
    "\n",
    "## The Perfect Race: Effects of age and wind on men' s fastest 100m races\n",
    "\n",
    "Contributors: Anesu Masube and Aaron Childress\n",
    "\n",
    "Table of Contents\n",
    "\n",
    "1. Problem Statement\n",
    "2. Data Sources\n",
    "3. Data Collection\n",
    "4. Hypothesis Test I\n",
    "5. Hypothesis Test II\n",
    "6. Findings and Analysis\n",
    "7. Recommendations"
   ]
  },
  {
   "cell_type": "code",
   "execution_count": 14,
   "metadata": {},
   "outputs": [],
   "source": [
    "#Import libraries\n",
    "\n",
    "\n",
    "import numpy as np\n",
    "import pandas as pd\n",
    "import matplotlib.pyplot as plt\n",
    "%matplotlib inline\n",
    "import seaborn as sns\n",
    "from bs4 import BeautifulSoup\n",
    "import requests\n",
    "from scipy import stats\n",
    "import statsmodels.api as sm\n",
    "from statsmodels.formula.api import ols\n",
    " "
   ]
  },
  {
   "cell_type": "markdown",
   "metadata": {},
   "source": [
    "## Problem Statement\n",
    "\n",
    "Professional 100 meter sprinters train their whole lives for a 10 second performance. In this race, success or failure is often measured in hundredths of a second. One of the most desirable achievements for a track athlete is winning gold at the Olympics. Unfortunately, they only get one shot every four years to run the perfect race. With the 2020 Olympics around the corner, it’s a relevant business case to take a look at factors potentially influencing the fastest 100 meter sprint times run since 1964.\n",
    "From a business standpoint, our objective is to provide data supported, actionable recommendations to the International Olympic Committee (IOC).\n",
    "\n",
    " \n",
    "We seek to explore how much of a factor father time (age) and mother nature (wind) are when it comes to running the perfect race. We conducted 3 Hypothesis tests as outlined below:\n",
    "\n",
    "1. ANOVA. Are wind and age together significant in explaining variation in sprint times? \n",
    "2. Welch's t-test on wind. We seek to answer whether wind has a statistically significant effect on race times \n",
    "3. Welch's t-test on age. We seek to answer whether age has a statistically significant effect on race times\n"
   ]
  },
  {
   "cell_type": "markdown",
   "metadata": {},
   "source": [
    "## Data Sources"
   ]
  },
  {
   "cell_type": "markdown",
   "metadata": {},
   "source": [
    "We scraped data from alltime-athletics.com. The data set is called \"All-time men's best 100m\". This data set contains over 3000 records of the fastest men's 100 meter times ever recorded. Worthy of note, these are not necessarily winning times. "
   ]
  },
  {
   "cell_type": "markdown",
   "metadata": {},
   "source": [
    "## Data Cleaning"
   ]
  },
  {
   "cell_type": "code",
   "execution_count": 15,
   "metadata": {},
   "outputs": [
    {
     "name": "stderr",
     "output_type": "stream",
     "text": [
      "ERROR:root:File `'../.py'` not found.\n"
     ]
    }
   ],
   "source": [
    "%run ../ "
   ]
  },
  {
   "cell_type": "code",
   "execution_count": 16,
   "metadata": {},
   "outputs": [
    {
     "name": "stderr",
     "output_type": "stream",
     "text": [
      "ERROR:root:File `'../.py'` not found.\n"
     ]
    }
   ],
   "source": [
    "%run  ../"
   ]
  },
  {
   "cell_type": "markdown",
   "metadata": {},
   "source": [
    "After scraping the data from alltime-athletics.com, we loaded the data to a dataframe, accessing the specific columns that we needed for the analysis. These included, 1. The fastest run times 2. Dates which these times were achieved 3. Date of birth of the respective runners 4. Country of origin 5. Tail wind on the day of the race. We transformed and cleaned the data and created an additional age column \n"
   ]
  },
  {
   "cell_type": "code",
   "execution_count": 17,
   "metadata": {},
   "outputs": [],
   "source": [
    "# Clean Men's 100m data set "
   ]
  },
  {
   "cell_type": "markdown",
   "metadata": {},
   "source": [
    "# Hypothesis Testing"
   ]
  },
  {
   "cell_type": "markdown",
   "metadata": {},
   "source": [
    "### Initial 2 way Anova Test for both wind and age"
   ]
  },
  {
   "cell_type": "markdown",
   "metadata": {},
   "source": [
    "we conducted an exploratory test on our data using a 2 way ANOVA to test the influence of wind and age on winning times. From this initial analysis the p-value of both wind and age was less than alpha which we set to 0.05 and hence we were able to reject the null hypothesis. We then conducted further anlysis of each variable as detailed below"
   ]
  },
  {
   "cell_type": "code",
   "execution_count": 18,
   "metadata": {},
   "outputs": [
    {
     "name": "stdout",
     "output_type": "stream",
     "text": [
      "              sum_sq      df          F    PR(>F)\n",
      "tail_wind   0.018898     1.0   3.776043  0.052091\n",
      "age         0.052691     1.0  10.528346  0.001189\n",
      "Residual   14.048235  2807.0        NaN       NaN\n"
     ]
    }
   ],
   "source": [
    "#ANOVA Test to test the influence of wind and age on winning times \n",
    "\n",
    "#stats.f_oneway(df.winning_times, df.tail_wind, df.age)\n",
    "formula = 'winning_times ~ tail_wind + age'\n",
    "lm = ols(formula, df).fit()\n",
    "table = sm.stats.anova_lm(lm, typ=2)\n",
    "print(table)"
   ]
  },
  {
   "cell_type": "markdown",
   "metadata": {},
   "source": [
    "### Hypothesis 1- Wind"
   ]
  },
  {
   "cell_type": "markdown",
   "metadata": {},
   "source": [
    "$H_{0}$: There is no difference in mean runtimes with tailwind versus runtimes with headwinds. i.e. $\\mu_{0} = \\mu_{1}$\n",
    "\n",
    "$H_{1}$: Mean runtimes with tailwind are lower than mean runtimes with headwind "
   ]
  },
  {
   "cell_type": "markdown",
   "metadata": {},
   "source": [
    "After setting up a signifince level of 0.05 we tested the above assumptions by creating 2 groups of the 3000 fastest ever legally recorded times 1 group with a positive tailwind (>=0 m/s) and another with a head wind of (< 0 m/s). We conducted a Welch Ts test and found the p value to be less than the alpha hecne we reject the null hypothesis. Additionally we plotted the fastest times of each tailwind and came up with a linear regression which shows how speed increases and tailwind increases "
   ]
  },
  {
   "cell_type": "code",
   "execution_count": 19,
   "metadata": {},
   "outputs": [],
   "source": [
    "# Accessing cleaned Men's 100m dataframe\n",
    "\n",
    "df=pd.read_csv('df.csv', index_col='date')\n",
    "df.index = pd.to_datetime(df.index)\n",
    "df['birth_date'] = pd.to_datetime(df['birth_date'])\n",
    "by_wind = df.sort_values(by='tail_wind')"
   ]
  },
  {
   "cell_type": "code",
   "execution_count": 20,
   "metadata": {},
   "outputs": [],
   "source": [
    "length = len(by_wind.index)\n",
    "if length%2 == 0:\n",
    "    h1 = int(length/2)\n",
    "else:\n",
    "    h1 = int(round(length/2))"
   ]
  },
  {
   "cell_type": "code",
   "execution_count": 21,
   "metadata": {},
   "outputs": [
    {
     "data": {
      "text/plain": [
       "Ttest_indResult(statistic=2.114203109673011, pvalue=0.03470402297231195)"
      ]
     },
     "execution_count": 21,
     "metadata": {},
     "output_type": "execute_result"
    }
   ],
   "source": [
    "less_wind = by_wind[\"tail_wind\"] < 0\n",
    "more_wind = by_wind[\"tail_wind\"] >= 0\n",
    "tw_strong = by_wind[more_wind]\n",
    "exp = np.array(tw_strong.winning_times)\n",
    "tw_weak = by_wind[less_wind]\n",
    "\n",
    "stats.ttest_ind(tw_weak.winning_times,tw_strong.winning_times, equal_var = False)"
   ]
  },
  {
   "cell_type": "code",
   "execution_count": 22,
   "metadata": {},
   "outputs": [
    {
     "data": {
      "text/plain": [
       "<matplotlib.axes._subplots.AxesSubplot at 0x1fcb37505c0>"
      ]
     },
     "execution_count": 22,
     "metadata": {},
     "output_type": "execute_result"
    },
    {
     "data": {
      "image/png": "[encoded data removed]",
      "text/plain": [
       "<Figure size 720x432 with 1 Axes>"
      ]
     },
     "metadata": {
      "needs_background": "light"
     },
     "output_type": "display_data"
    }
   ],
   "source": [
    "#Visualizations Related to Tailwind Testing \n",
    "\n",
    "min_bywind=by_wind.groupby('tail_wind')['winning_times'].min()\n",
    "\n",
    "x = np.array(min_bywind.index)\n",
    "y = np.array(min_bywind)\n",
    "\n",
    "figure = plt.figure(figsize = (10, 6))\n",
    "sns.regplot(x=x, y=y, color=\"orange\")"
   ]
  },
  {
   "cell_type": "markdown",
   "metadata": {},
   "source": [
    "### Create Wind vs Run Time plot with (adjustment for modeled headwind effect)"
   ]
  },
  {
   "cell_type": "code",
   "execution_count": 23,
   "metadata": {},
   "outputs": [
    {
     "name": "stdout",
     "output_type": "stream",
     "text": [
      "-0.07323085810445785 9.83423074508031\n"
     ]
    }
   ],
   "source": [
    "# Get regression line coefficients\n",
    "coef = np.polyfit(x,y,1)\n",
    "m, b =coef[0], coef[1]\n",
    "print(m,b)"
   ]
  },
  {
   "cell_type": "code",
   "execution_count": 24,
   "metadata": {},
   "outputs": [
    {
     "data": {
      "text/plain": [
       "array([10.02, 10.05, 10.08, 10.05, 10.04, 10.05, 10.08, 10.05,  9.91,\n",
       "        9.95,  9.99,  9.92,  9.77,  9.87,  9.97,  9.94,  9.98,  9.87,\n",
       "        9.95,  9.91,  9.79,  9.78,  9.77,  9.79,  9.69,  9.69])"
      ]
     },
     "execution_count": 24,
     "metadata": {},
     "output_type": "execute_result"
    }
   ],
   "source": [
    "# Selecting headwind values <= 0\n",
    "headwind = x <= 0\n",
    "x_headwind = x[headwind]\n",
    "# Selecting \n",
    "y_headwind = y[:len(x_headwind)]\n",
    "y_headwind"
   ]
  },
  {
   "cell_type": "code",
   "execution_count": 25,
   "metadata": {},
   "outputs": [
    {
     "data": {
      "text/plain": [
       "array([9.763692  , 9.87424594, 9.91156903, 9.88889211, 9.8862152 ,\n",
       "       9.90353828, 9.94086137, 9.91818446, 9.78550754, 9.83283063,\n",
       "       9.88015371, 9.8174768 , 9.67479988, 9.78212297, 9.88944606,\n",
       "       9.86676914, 9.91409223, 9.81141531, 9.8987384 , 9.86606149,\n",
       "       9.75338457, 9.75070766, 9.74803074, 9.77535383, 9.68267691,\n",
       "       9.69      ])"
      ]
     },
     "execution_count": 25,
     "metadata": {},
     "output_type": "execute_result"
    }
   ],
   "source": [
    "# Adjusting y values to remove effect of headwind\n",
    "y_adjusted= y_headwind - m*x_headwind\n",
    "y_adjusted"
   ]
  },
  {
   "cell_type": "code",
   "execution_count": 26,
   "metadata": {},
   "outputs": [
    {
     "data": {
      "image/png": "[encoded data removed]",
      "text/plain": [
       "<Figure size 864x576 with 1 Axes>"
      ]
     },
     "metadata": {},
     "output_type": "display_data"
    }
   ],
   "source": [
    "#light blue are headwind-adjusted times (ie.projected times if there were no headwind)\n",
    "\n",
    "#chart settings\n",
    "sns.set_style('whitegrid')\n",
    "\n",
    "figure = plt.figure(figsize = (12, 8))\n",
    "xnew = np.linspace(-4,2,100)\n",
    "ynew = np.poly1d(coef)\n",
    "_=plt.plot(xnew,ynew(xnew),x,y,'o')\n",
    "_=plt.plot(x_headwind,y_adjusted,'o', color='#00D5FF')\n",
    "_=plt.xlabel('Headwind: Below 0, Tailwind: Above 0')\n",
    "_=plt.ylabel('Run Time (seconds)')\n",
    "_=plt.title(\"Effect of Headwind on Fastest Times\", y=1.03)\n",
    "\n",
    "for i,x in enumerate(x_headwind):\n",
    "    ymin=y_adjusted[i]\n",
    "    ymax=y[i]\n",
    "    _=plt.plot([x, x], [ymax, ymin], 'k-.', lw= 1.0)"
   ]
  },
  {
   "cell_type": "markdown",
   "metadata": {},
   "source": [
    "### Hypothesis Test 2 - Age"
   ]
  },
  {
   "cell_type": "markdown",
   "metadata": {},
   "source": [
    "$H_{0}$: There is no difference in the mean of runtimes of the test age group which is 27-29 versus the other age groups  i.e. $\\mu_{0} = \\mu_{1}$\n",
    "\n",
    "$H_{1}$: The mean of the test age group is lower than the control age group"
   ]
  },
  {
   "cell_type": "markdown",
   "metadata": {},
   "source": [
    "Through EDA we plotteded the fastest times for each age and generated a parabolic pattern which enabled us to create a treatment age group of 27-29 years old as this was +/- 1 year of 28 (the minimum on our curve). We then conducted a Welch T test with other treatment age groups and the p value was 0.22 which is above the alpha (p-value = 0.05%). Therefore, we failed to reject the null hypothesis that there is no difference in mean runtime between groups."
   ]
  },
  {
   "cell_type": "code",
   "execution_count": 27,
   "metadata": {
    "scrolled": false
   },
   "outputs": [],
   "source": [
    "df['age_clean'] = df['age'].apply(lambda x: round(x,0))"
   ]
  },
  {
   "cell_type": "code",
   "execution_count": 28,
   "metadata": {},
   "outputs": [
    {
     "data": {
      "text/html": [
       "<div>\n",
       "<style scoped>\n",
       "    .dataframe tbody tr th:only-of-type {\n",
       "        vertical-align: middle;\n",
       "    }\n",
       "\n",
       "    .dataframe tbody tr th {\n",
       "        vertical-align: top;\n",
       "    }\n",
       "\n",
       "    .dataframe thead th {\n",
       "        text-align: right;\n",
       "    }\n",
       "</style>\n",
       "<table border=\"1\" class=\"dataframe\">\n",
       "  <thead>\n",
       "    <tr style=\"text-align: right;\">\n",
       "      <th></th>\n",
       "      <th>winning_times</th>\n",
       "      <th>tail_wind</th>\n",
       "      <th>birth_date</th>\n",
       "      <th>country</th>\n",
       "      <th>age</th>\n",
       "      <th>age_clean</th>\n",
       "    </tr>\n",
       "    <tr>\n",
       "      <th>date</th>\n",
       "      <th></th>\n",
       "      <th></th>\n",
       "      <th></th>\n",
       "      <th></th>\n",
       "      <th></th>\n",
       "      <th></th>\n",
       "    </tr>\n",
       "  </thead>\n",
       "  <tbody>\n",
       "    <tr>\n",
       "      <td>2013-04-28</td>\n",
       "      <td>10.01</td>\n",
       "      <td>0.9</td>\n",
       "      <td>1995-12-15</td>\n",
       "      <td>JPN</td>\n",
       "      <td>17.380822</td>\n",
       "      <td>17.0</td>\n",
       "    </tr>\n",
       "    <tr>\n",
       "      <td>2002-07-17</td>\n",
       "      <td>10.09</td>\n",
       "      <td>-0.6</td>\n",
       "      <td>1984-11-10</td>\n",
       "      <td>TTO</td>\n",
       "      <td>17.693151</td>\n",
       "      <td>18.0</td>\n",
       "    </tr>\n",
       "    <tr>\n",
       "      <td>2018-02-06</td>\n",
       "      <td>10.09</td>\n",
       "      <td>0.9</td>\n",
       "      <td>2000-05-09</td>\n",
       "      <td>USA</td>\n",
       "      <td>17.758904</td>\n",
       "      <td>18.0</td>\n",
       "    </tr>\n",
       "    <tr>\n",
       "      <td>2017-04-08</td>\n",
       "      <td>10.05</td>\n",
       "      <td>-0.6</td>\n",
       "      <td>1999-06-03</td>\n",
       "      <td>JPN</td>\n",
       "      <td>17.860274</td>\n",
       "      <td>18.0</td>\n",
       "    </tr>\n",
       "    <tr>\n",
       "      <td>2008-06-28</td>\n",
       "      <td>10.01</td>\n",
       "      <td>1.6</td>\n",
       "      <td>1990-08-01</td>\n",
       "      <td>USA</td>\n",
       "      <td>17.920548</td>\n",
       "      <td>18.0</td>\n",
       "    </tr>\n",
       "  </tbody>\n",
       "</table>\n",
       "</div>"
      ],
      "text/plain": [
       "            winning_times  tail_wind birth_date country        age  age_clean\n",
       "date                                                                         \n",
       "2013-04-28          10.01        0.9 1995-12-15     JPN  17.380822       17.0\n",
       "2002-07-17          10.09       -0.6 1984-11-10     TTO  17.693151       18.0\n",
       "2018-02-06          10.09        0.9 2000-05-09     USA  17.758904       18.0\n",
       "2017-04-08          10.05       -0.6 1999-06-03     JPN  17.860274       18.0\n",
       "2008-06-28          10.01        1.6 1990-08-01     USA  17.920548       18.0"
      ]
     },
     "execution_count": 28,
     "metadata": {},
     "output_type": "execute_result"
    }
   ],
   "source": [
    "df.head()"
   ]
  },
  {
   "cell_type": "code",
   "execution_count": 29,
   "metadata": {
    "scrolled": true
   },
   "outputs": [
    {
     "data": {
      "text/plain": [
       "age_clean\n",
       "17.0    10.01\n",
       "18.0    10.01\n",
       "19.0     9.97\n",
       "20.0     9.84\n",
       "21.0     9.82\n",
       "22.0     9.69\n",
       "23.0     9.58\n",
       "24.0     9.77\n",
       "25.0     9.72\n",
       "26.0     9.63\n",
       "27.0     9.69\n",
       "28.0     9.78\n",
       "29.0     9.78\n",
       "30.0     9.79\n",
       "31.0     9.80\n",
       "32.0     9.77\n",
       "33.0     9.74\n",
       "34.0     9.89\n",
       "35.0     9.92\n",
       "36.0     9.97\n",
       "37.0     9.87\n",
       "38.0     9.96\n",
       "39.0     9.98\n",
       "40.0     9.93\n",
       "Name: winning_times, dtype: float64"
      ]
     },
     "execution_count": 29,
     "metadata": {},
     "output_type": "execute_result"
    }
   ],
   "source": [
    "# Selecting the fastest time for each age \n",
    "by_age = df.groupby('age_clean')['winning_times'].min()\n",
    "by_age"
   ]
  },
  {
   "cell_type": "code",
   "execution_count": 30,
   "metadata": {},
   "outputs": [],
   "source": [
    "# Visualisations of the age effect \n",
    "x = np.array(by_age.index)\n",
    "y = np.array(by_age)\n"
   ]
  },
  {
   "cell_type": "markdown",
   "metadata": {},
   "source": [
    "## Hypothesis formed by looking at curve of fastest run times at each age\n",
    "### Quadriatic equation: degree 2\n",
    "### y = ax**2 + bx + c"
   ]
  },
  {
   "cell_type": "code",
   "execution_count": 31,
   "metadata": {},
   "outputs": [
    {
     "data": {
      "text/plain": [
       "array([ 2.15118577e-03, -1.19256719e-01,  1.13780215e+01])"
      ]
     },
     "execution_count": 31,
     "metadata": {},
     "output_type": "execute_result"
    }
   ],
   "source": [
    "# Curve fitting\n",
    "min_age, max_age = int(x.min()), int(x.max())\n",
    "poly_coefficients = np.polyfit(x,y,2)\n",
    "poly_coefficients"
   ]
  },
  {
   "cell_type": "code",
   "execution_count": 32,
   "metadata": {
    "scrolled": true
   },
   "outputs": [
    {
     "data": {
      "image/png": "[encoded data removed]",
      "text/plain": [
       "<Figure size 864x576 with 1 Axes>"
      ]
     },
     "metadata": {},
     "output_type": "display_data"
    }
   ],
   "source": [
    "x_new = np.linspace(min_age,max_age,100)\n",
    "y_new = np.poly1d(poly_coefficients)\n",
    "_=plt.figure(figsize = (12, 8))\n",
    "_=plt.plot(x_new,y_new(x_new),x,y,'o')"
   ]
  },
  {
   "cell_type": "code",
   "execution_count": 33,
   "metadata": {},
   "outputs": [
    {
     "name": "stdout",
     "output_type": "stream",
     "text": [
      "minimum of best fit curve is time of 9.725363043478266 and age 28. Therefore, we hypothesize optimal age range is 28+/-1 yr\n"
     ]
    }
   ],
   "source": [
    "# finding the age on the curve corresponding with the lowest time\n",
    "lowest_time = y_new(min_age)\n",
    "best_age = min_age\n",
    "for age in range(min_age,max_age):\n",
    "    if lowest_time > y_new(age):\n",
    "        lowest_time = y_new(age)\n",
    "        best_age = age\n",
    "    \n",
    "print(f'minimum of best fit curve is time of {lowest_time} and age {best_age}. Therefore, we hypothesize optimal age range is 28+/-1 yr')"
   ]
  },
  {
   "cell_type": "code",
   "execution_count": 34,
   "metadata": {},
   "outputs": [
    {
     "data": {
      "text/plain": [
       "2501"
      ]
     },
     "execution_count": 34,
     "metadata": {},
     "output_type": "execute_result"
    }
   ],
   "source": [
    "# Create control group\n",
    "other_ages = (df.age < 27) | (df.age > 29) #filter times for ages not 27-29\n",
    "ctrl_ages = np.array(df[other_ages].winning_times)\n",
    "len(ctrl_ages)"
   ]
  },
  {
   "cell_type": "code",
   "execution_count": 35,
   "metadata": {},
   "outputs": [
    {
     "data": {
      "text/plain": [
       "309"
      ]
     },
     "execution_count": 35,
     "metadata": {},
     "output_type": "execute_result"
    }
   ],
   "source": [
    "# Create test group\n",
    "target_ages = (df.age >=27) & (df.age <=29) # filter times for ages 27-29\n",
    "expr_ages = np.array(df[target_ages].winning_times)\n",
    "len(expr_ages)"
   ]
  },
  {
   "cell_type": "code",
   "execution_count": 36,
   "metadata": {},
   "outputs": [
    {
     "data": {
      "text/plain": [
       "Ttest_indResult(statistic=1.2256981958196693, pvalue=0.22106171543260286)"
      ]
     },
     "execution_count": 36,
     "metadata": {},
     "output_type": "execute_result"
    }
   ],
   "source": [
    "#Welch's t-test\n",
    "stats.ttest_ind(ctrl_ages, expr_ages, equal_var=False)"
   ]
  },
  {
   "cell_type": "markdown",
   "metadata": {},
   "source": [
    "## Findings and Analysis"
   ]
  },
  {
   "cell_type": "markdown",
   "metadata": {},
   "source": [
    "In conclusion here is what we found:\n",
    "\n",
    "1. **The Wind effect is real** -----Every 1m/s change in wind speed correlates with 0.07s change in time.  This a significant impediment to achieving the highest speeds and hence the ablitiy to set new world records\n",
    "\n",
    "2. **There is clear indication of an optimal age for peak performance**---We model that the optimal age to achieve the fastest times is 28. However, we failed to show a significant difference in mean times between test (age 27-29) and contol groups. \n"
   ]
  },
  {
   "cell_type": "markdown",
   "metadata": {},
   "source": [
    "## Recomendations"
   ]
  },
  {
   "cell_type": "markdown",
   "metadata": {},
   "source": [
    "Through analysis of the lowest times run by athletes across ages 17-40, we show that there is an optimal age range for a male 100 meter sprinter to have a shot at breaking a record - he gets one or two chances at most during his career. This informs why the IOC should create the ideal environment for sprinters to run their best time. Our analysis of wind speed on sprint times supports our recommendation that sprint events should be held indoors. Not only is this best for the sport, but there is also substantial money on the line. According to celebritylifecycle.com, Usain Bolt is worth $95 million from endorsement deals.\n",
    "\n",
    "### Outline of our findings:\n",
    "\n",
    "1. Indoor meets are preferred venue; headwinds can prevent new records.\n",
    "2. We need to conduct further analysis on age to uncover a significant realationship between age and achieving fast times. e.g Chi squared test on age groups across time periods. \n",
    "3. Get more data for additional variables e.g weather, level of competition as a motivator to achieve personal bests, etc."
   ]
  },
  {
   "cell_type": "code",
   "execution_count": null,
   "metadata": {},
   "outputs": [],
   "source": []
  }
 ],
 "metadata": {
  "kernelspec": {
   "display_name": "Python 3",
   "language": "python",
   "name": "python3"
  },
  "language_info": {
   "codemirror_mode": {
    "name": "ipython",
    "version": 3
   },
   "file_extension": ".py",
   "mimetype": "text/x-python",
   "name": "python",
   "nbconvert_exporter": "python",
   "pygments_lexer": "ipython3",
   "version": "3.6.9"
  }
 },
 "nbformat": 4,
 "nbformat_minor": 2
}
