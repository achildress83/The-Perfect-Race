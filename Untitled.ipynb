{
 "cells": [
  {
   "cell_type": "code",
   "execution_count": 1,
   "metadata": {},
   "outputs": [],
   "source": [
    "#import libraries\n",
    "import numpy as np\n",
    "import pandas as pd\n",
    "import matplotlib.pyplot as plt\n",
    "%matplotlib inline\n",
    "import seaborn as sns\n",
    "from bs4 import BeautifulSoup\n",
    "import requests\n",
    "from scipy import stats"
   ]
  },
  {
   "cell_type": "code",
   "execution_count": 2,
   "metadata": {},
   "outputs": [
    {
     "data": {
      "text/html": [
       "<div>\n",
       "<style scoped>\n",
       "    .dataframe tbody tr th:only-of-type {\n",
       "        vertical-align: middle;\n",
       "    }\n",
       "\n",
       "    .dataframe tbody tr th {\n",
       "        vertical-align: top;\n",
       "    }\n",
       "\n",
       "    .dataframe thead th {\n",
       "        text-align: right;\n",
       "    }\n",
       "</style>\n",
       "<table border=\"1\" class=\"dataframe\">\n",
       "  <thead>\n",
       "    <tr style=\"text-align: right;\">\n",
       "      <th></th>\n",
       "      <th>winning_times</th>\n",
       "      <th>tail_wind</th>\n",
       "      <th>birth_date</th>\n",
       "      <th>country</th>\n",
       "      <th>age</th>\n",
       "    </tr>\n",
       "    <tr>\n",
       "      <th>date</th>\n",
       "      <th></th>\n",
       "      <th></th>\n",
       "      <th></th>\n",
       "      <th></th>\n",
       "      <th></th>\n",
       "    </tr>\n",
       "  </thead>\n",
       "  <tbody>\n",
       "    <tr>\n",
       "      <td>2013-04-28</td>\n",
       "      <td>10.01</td>\n",
       "      <td>0.9</td>\n",
       "      <td>1995-12-15</td>\n",
       "      <td>JPN</td>\n",
       "      <td>17.380822</td>\n",
       "    </tr>\n",
       "    <tr>\n",
       "      <td>2002-07-17</td>\n",
       "      <td>10.09</td>\n",
       "      <td>-0.6</td>\n",
       "      <td>1984-11-10</td>\n",
       "      <td>TTO</td>\n",
       "      <td>17.693151</td>\n",
       "    </tr>\n",
       "    <tr>\n",
       "      <td>2018-02-06</td>\n",
       "      <td>10.09</td>\n",
       "      <td>0.9</td>\n",
       "      <td>2000-05-09</td>\n",
       "      <td>USA</td>\n",
       "      <td>17.758904</td>\n",
       "    </tr>\n",
       "    <tr>\n",
       "      <td>2017-04-08</td>\n",
       "      <td>10.05</td>\n",
       "      <td>-0.6</td>\n",
       "      <td>1999-06-03</td>\n",
       "      <td>JPN</td>\n",
       "      <td>17.860274</td>\n",
       "    </tr>\n",
       "    <tr>\n",
       "      <td>2008-06-28</td>\n",
       "      <td>10.01</td>\n",
       "      <td>1.6</td>\n",
       "      <td>1990-08-01</td>\n",
       "      <td>USA</td>\n",
       "      <td>17.920548</td>\n",
       "    </tr>\n",
       "  </tbody>\n",
       "</table>\n",
       "</div>"
      ],
      "text/plain": [
       "            winning_times  tail_wind  birth_date country        age\n",
       "date                                                               \n",
       "2013-04-28          10.01        0.9  1995-12-15     JPN  17.380822\n",
       "2002-07-17          10.09       -0.6  1984-11-10     TTO  17.693151\n",
       "2018-02-06          10.09        0.9  2000-05-09     USA  17.758904\n",
       "2017-04-08          10.05       -0.6  1999-06-03     JPN  17.860274\n",
       "2008-06-28          10.01        1.6  1990-08-01     USA  17.920548"
      ]
     },
     "execution_count": 2,
     "metadata": {},
     "output_type": "execute_result"
    }
   ],
   "source": [
    "df=pd.read_csv('df.csv', index_col='date')\n",
    "df.head()"
   ]
  },
  {
   "cell_type": "code",
   "execution_count": 4,
   "metadata": {},
   "outputs": [],
   "source": [
    "df.index = pd.to_datetime(df.index)\n",
    "df['birth_date'] = pd.to_datetime(df['birth_date'])"
   ]
  },
  {
   "cell_type": "code",
   "execution_count": 5,
   "metadata": {},
   "outputs": [
    {
     "name": "stdout",
     "output_type": "stream",
     "text": [
      "<class 'pandas.core.frame.DataFrame'>\n",
      "DatetimeIndex: 2810 entries, 2013-04-28 to 2016-07-05\n",
      "Data columns (total 5 columns):\n",
      "winning_times    2810 non-null float64\n",
      "tail_wind        2810 non-null float64\n",
      "birth_date       2810 non-null datetime64[ns]\n",
      "country          2810 non-null object\n",
      "age              2810 non-null float64\n",
      "dtypes: datetime64[ns](1), float64(3), object(1)\n",
      "memory usage: 131.7+ KB\n"
     ]
    }
   ],
   "source": [
    "df.info()"
   ]
  },
  {
   "cell_type": "code",
   "execution_count": null,
   "metadata": {},
   "outputs": [],
   "source": []
  }
 ],
 "metadata": {
  "kernelspec": {
   "display_name": "Python 3",
   "language": "python",
   "name": "python3"
  },
  "language_info": {
   "codemirror_mode": {
    "name": "ipython",
    "version": 3
   },
   "file_extension": ".py",
   "mimetype": "text/x-python",
   "name": "python",
   "nbconvert_exporter": "python",
   "pygments_lexer": "ipython3",
   "version": "3.6.9"
  }
 },
 "nbformat": 4,
 "nbformat_minor": 2
}
