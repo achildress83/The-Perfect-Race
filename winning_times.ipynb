{
 "cells": [
  {
   "cell_type": "code",
   "execution_count": 3,
   "metadata": {},
   "outputs": [],
   "source": [
    "#import libraries\n",
    "import numpy as np\n",
    "import pandas as pd\n",
    "import matplotlib.pyplot as plt\n",
    "%matplotlib inline\n",
    "import seaborn as sns\n",
    "from bs4 import BeautifulSoup\n",
    "import requests\n",
    "import missingno as msno\n",
    "from scipy import stats"
   ]
  },
  {
   "cell_type": "markdown",
   "metadata": {},
   "source": [
    "## Scraping date from website\n",
    "### ***Don't rerun these cells, we made a csv so you can start from reading csv into dataframe***"
   ]
  },
  {
   "cell_type": "code",
   "execution_count": 2,
   "metadata": {},
   "outputs": [],
   "source": [
    "page = requests.get('http://www.alltime-athletics.com/m_100ok.htm') # Make a get request to retrieve the page\n",
    "soup = BeautifulSoup(page.content, 'html.parser') # Pass the page contents to beautiful soup for parsing"
   ]
  },
  {
   "cell_type": "code",
   "execution_count": 3,
   "metadata": {},
   "outputs": [],
   "source": [
    "#soup.prettify"
   ]
  },
  {
   "cell_type": "code",
   "execution_count": 4,
   "metadata": {},
   "outputs": [],
   "source": [
    "table = soup.find('pre')"
   ]
  },
  {
   "cell_type": "code",
   "execution_count": 5,
   "metadata": {},
   "outputs": [],
   "source": [
    "table_text = table.get_text()"
   ]
  },
  {
   "cell_type": "markdown",
   "metadata": {},
   "source": [
    "## Extract times from table text"
   ]
  },
  {
   "cell_type": "code",
   "execution_count": 46,
   "metadata": {},
   "outputs": [],
   "source": [
    "def get_times(table_text):\n",
    "    times_mens = []\n",
    "    \n",
    "    for row in table_text.split('\\n')[1:]:\n",
    "        run_time = row[14:25].strip()\n",
    "        run_time = run_time.rstrip('A')\n",
    "        times_mens.append(run_time)\n",
    "    \n",
    "    return times_mens"
   ]
  },
  {
   "cell_type": "code",
   "execution_count": 47,
   "metadata": {},
   "outputs": [
    {
     "data": {
      "text/plain": [
       "['9.58', '9.63', '9.69', '9.69', '9.69']"
      ]
     },
     "metadata": {},
     "output_type": "display_data"
    },
    {
     "data": {
      "text/plain": [
       "3365"
      ]
     },
     "metadata": {},
     "output_type": "display_data"
    }
   ],
   "source": [
    "winning_times = get_times(table_text)\n",
    "display(winning_times[:5]) #display head of list\n",
    "display(len(winning_times))"
   ]
  },
  {
   "cell_type": "code",
   "execution_count": 48,
   "metadata": {},
   "outputs": [],
   "source": [
    "def time_floats(data): #convert strings to floats\n",
    "    lst = []\n",
    "    for i in data:\n",
    "        try:\n",
    "            lst.append(float(i))\n",
    "        except:\n",
    "            lst.append(np.nan)\n",
    "            \n",
    "    return lst"
   ]
  },
  {
   "cell_type": "code",
   "execution_count": 49,
   "metadata": {},
   "outputs": [
    {
     "data": {
      "text/plain": [
       "[9.58, 9.63, 9.69, 9.69, 9.69]"
      ]
     },
     "metadata": {},
     "output_type": "display_data"
    },
    {
     "data": {
      "text/plain": [
       "3365"
      ]
     },
     "metadata": {},
     "output_type": "display_data"
    }
   ],
   "source": [
    "mens_times = time_floats(winning_times)\n",
    "display(mens_times[:5])\n",
    "display(len(winning_times))\n"
   ]
  },
  {
   "cell_type": "markdown",
   "metadata": {},
   "source": [
    "## Extract dates from table text"
   ]
  },
  {
   "cell_type": "code",
   "execution_count": 50,
   "metadata": {},
   "outputs": [],
   "source": [
    "def get_dates(table_text):\n",
    "    date_mens = []\n",
    "    \n",
    "    for row in table_text.split('\\n')[1:]:\n",
    "        date = row[120:150].strip()\n",
    "        date_mens.append(date)\n",
    "    \n",
    "    return date_mens"
   ]
  },
  {
   "cell_type": "code",
   "execution_count": 51,
   "metadata": {},
   "outputs": [
    {
     "data": {
      "text/plain": [
       "['16.08.2009', '05.08.2012', '16.08.2008', '20.09.2009', '23.08.2012']"
      ]
     },
     "metadata": {},
     "output_type": "display_data"
    },
    {
     "data": {
      "text/plain": [
       "3365"
      ]
     },
     "metadata": {},
     "output_type": "display_data"
    }
   ],
   "source": [
    "date = get_dates(table_text)\n",
    "display(date[:5])\n",
    "display(len(date))"
   ]
  },
  {
   "cell_type": "markdown",
   "metadata": {},
   "source": [
    "## Extract Tail Wind from table text\n"
   ]
  },
  {
   "cell_type": "code",
   "execution_count": 52,
   "metadata": {},
   "outputs": [],
   "source": [
    "def get_wind(table_text):\n",
    "    wind_mens = []\n",
    "    for row in table_text.split('\\n')[1:]:\n",
    "        wind = row[26:30].strip()\n",
    "        if '-' in wind:\n",
    "            wind_mens.append(wind)\n",
    "        else:\n",
    "            wind_mens.append(wind[1:])\n",
    "            \n",
    "    return wind_mens\n",
    "    \n"
   ]
  },
  {
   "cell_type": "code",
   "execution_count": 53,
   "metadata": {},
   "outputs": [
    {
     "data": {
      "text/plain": [
       "['0.9', '1.5', '0.0', '2.0', '-0.1']"
      ]
     },
     "metadata": {},
     "output_type": "display_data"
    },
    {
     "data": {
      "text/plain": [
       "3365"
      ]
     },
     "metadata": {},
     "output_type": "display_data"
    }
   ],
   "source": [
    "tail_wind = get_wind(table_text)\n",
    "\n",
    "display(tail_wind[:5])\n",
    "display(len(tail_wind))"
   ]
  },
  {
   "cell_type": "code",
   "execution_count": 54,
   "metadata": {},
   "outputs": [],
   "source": [
    "tw_floats = time_floats(tail_wind)"
   ]
  },
  {
   "cell_type": "code",
   "execution_count": 55,
   "metadata": {},
   "outputs": [
    {
     "data": {
      "text/plain": [
       "float"
      ]
     },
     "execution_count": 55,
     "metadata": {},
     "output_type": "execute_result"
    }
   ],
   "source": [
    "type(tw_floats[0])"
   ]
  },
  {
   "cell_type": "markdown",
   "metadata": {},
   "source": [
    "## Extract D.O.B from table_text"
   ]
  },
  {
   "cell_type": "code",
   "execution_count": 56,
   "metadata": {},
   "outputs": [],
   "source": [
    "def get_dob(table_text):\n",
    "    dob_mens = []\n",
    "    \n",
    "    for row in table_text.split('\\n')[1:]:\n",
    "        dob = row[70:82].strip()\n",
    "        dob_mens.append(dob)\n",
    "    \n",
    "    return dob_mens"
   ]
  },
  {
   "cell_type": "code",
   "execution_count": 57,
   "metadata": {},
   "outputs": [
    {
     "data": {
      "text/plain": [
       "['21.08.86', '21.08.86', '21.08.86', '09.08.82', '26.12.89']"
      ]
     },
     "metadata": {},
     "output_type": "display_data"
    },
    {
     "data": {
      "text/plain": [
       "3365"
      ]
     },
     "metadata": {},
     "output_type": "display_data"
    }
   ],
   "source": [
    "dob = get_dob(table_text)\n",
    "display(dob[:5])\n",
    "display(len(dob))"
   ]
  },
  {
   "cell_type": "markdown",
   "metadata": {},
   "source": [
    "## Extract Country from table_text"
   ]
  },
  {
   "cell_type": "code",
   "execution_count": 58,
   "metadata": {},
   "outputs": [],
   "source": [
    "def get_country(table_text):\n",
    "    country_mens = []\n",
    "    \n",
    "    for row in table_text.split('\\n')[1:]:\n",
    "        country = row[60:70].strip()\n",
    "        country_mens.append(country)\n",
    "    \n",
    "    return country_mens"
   ]
  },
  {
   "cell_type": "code",
   "execution_count": 59,
   "metadata": {},
   "outputs": [
    {
     "data": {
      "text/plain": [
       "['JAM', 'JAM', 'JAM', 'USA', 'JAM']"
      ]
     },
     "metadata": {},
     "output_type": "display_data"
    },
    {
     "data": {
      "text/plain": [
       "3365"
      ]
     },
     "metadata": {},
     "output_type": "display_data"
    }
   ],
   "source": [
    "countries = get_country(table_text)\n",
    "display(countries[:5])\n",
    "display(len(countries))"
   ]
  },
  {
   "cell_type": "markdown",
   "metadata": {},
   "source": [
    "## Create Dataframe"
   ]
  },
  {
   "cell_type": "code",
   "execution_count": 60,
   "metadata": {},
   "outputs": [],
   "source": [
    "runners = {'date': date, 'winning_times': mens_times, 'tail_wind': tw_floats, 'birth_date': dob, 'country': countries}"
   ]
  },
  {
   "cell_type": "code",
   "execution_count": 61,
   "metadata": {},
   "outputs": [
    {
     "data": {
      "text/html": [
       "<div>\n",
       "<style scoped>\n",
       "    .dataframe tbody tr th:only-of-type {\n",
       "        vertical-align: middle;\n",
       "    }\n",
       "\n",
       "    .dataframe tbody tr th {\n",
       "        vertical-align: top;\n",
       "    }\n",
       "\n",
       "    .dataframe thead th {\n",
       "        text-align: right;\n",
       "    }\n",
       "</style>\n",
       "<table border=\"1\" class=\"dataframe\">\n",
       "  <thead>\n",
       "    <tr style=\"text-align: right;\">\n",
       "      <th></th>\n",
       "      <th>date</th>\n",
       "      <th>winning_times</th>\n",
       "      <th>tail_wind</th>\n",
       "      <th>birth_date</th>\n",
       "      <th>country</th>\n",
       "    </tr>\n",
       "  </thead>\n",
       "  <tbody>\n",
       "    <tr>\n",
       "      <td>0</td>\n",
       "      <td>16.08.2009</td>\n",
       "      <td>9.58</td>\n",
       "      <td>0.9</td>\n",
       "      <td>21.08.86</td>\n",
       "      <td>JAM</td>\n",
       "    </tr>\n",
       "    <tr>\n",
       "      <td>1</td>\n",
       "      <td>05.08.2012</td>\n",
       "      <td>9.63</td>\n",
       "      <td>1.5</td>\n",
       "      <td>21.08.86</td>\n",
       "      <td>JAM</td>\n",
       "    </tr>\n",
       "    <tr>\n",
       "      <td>2</td>\n",
       "      <td>16.08.2008</td>\n",
       "      <td>9.69</td>\n",
       "      <td>0.0</td>\n",
       "      <td>21.08.86</td>\n",
       "      <td>JAM</td>\n",
       "    </tr>\n",
       "    <tr>\n",
       "      <td>3</td>\n",
       "      <td>20.09.2009</td>\n",
       "      <td>9.69</td>\n",
       "      <td>2.0</td>\n",
       "      <td>09.08.82</td>\n",
       "      <td>USA</td>\n",
       "    </tr>\n",
       "    <tr>\n",
       "      <td>4</td>\n",
       "      <td>23.08.2012</td>\n",
       "      <td>9.69</td>\n",
       "      <td>-0.1</td>\n",
       "      <td>26.12.89</td>\n",
       "      <td>JAM</td>\n",
       "    </tr>\n",
       "  </tbody>\n",
       "</table>\n",
       "</div>"
      ],
      "text/plain": [
       "         date  winning_times  tail_wind birth_date country\n",
       "0  16.08.2009           9.58        0.9   21.08.86     JAM\n",
       "1  05.08.2012           9.63        1.5   21.08.86     JAM\n",
       "2  16.08.2008           9.69        0.0   21.08.86     JAM\n",
       "3  20.09.2009           9.69        2.0   09.08.82     USA\n",
       "4  23.08.2012           9.69       -0.1   26.12.89     JAM"
      ]
     },
     "execution_count": 61,
     "metadata": {},
     "output_type": "execute_result"
    }
   ],
   "source": [
    "df = pd.DataFrame(runners)\n",
    "df.head()"
   ]
  },
  {
   "cell_type": "code",
   "execution_count": 62,
   "metadata": {},
   "outputs": [
    {
     "name": "stdout",
     "output_type": "stream",
     "text": [
      "<class 'pandas.core.frame.DataFrame'>\n",
      "RangeIndex: 3365 entries, 0 to 3364\n",
      "Data columns (total 5 columns):\n",
      "date             3365 non-null object\n",
      "winning_times    3363 non-null float64\n",
      "tail_wind        3355 non-null float64\n",
      "birth_date       3365 non-null object\n",
      "country          3365 non-null object\n",
      "dtypes: float64(2), object(3)\n",
      "memory usage: 131.6+ KB\n"
     ]
    }
   ],
   "source": [
    "df.info()"
   ]
  },
  {
   "cell_type": "code",
   "execution_count": 63,
   "metadata": {},
   "outputs": [],
   "source": [
    "df['date'] = pd.to_datetime(df['date'])\n",
    "df['birth_date'] = pd.to_datetime(df['birth_date'])\n"
   ]
  },
  {
   "cell_type": "code",
   "execution_count": 64,
   "metadata": {},
   "outputs": [
    {
     "name": "stdout",
     "output_type": "stream",
     "text": [
      "<class 'pandas.core.frame.DataFrame'>\n",
      "RangeIndex: 3365 entries, 0 to 3364\n",
      "Data columns (total 5 columns):\n",
      "date             3363 non-null datetime64[ns]\n",
      "winning_times    3363 non-null float64\n",
      "tail_wind        3355 non-null float64\n",
      "birth_date       3360 non-null datetime64[ns]\n",
      "country          3365 non-null object\n",
      "dtypes: datetime64[ns](2), float64(2), object(1)\n",
      "memory usage: 131.6+ KB\n"
     ]
    },
    {
     "data": {
      "text/html": [
       "<div>\n",
       "<style scoped>\n",
       "    .dataframe tbody tr th:only-of-type {\n",
       "        vertical-align: middle;\n",
       "    }\n",
       "\n",
       "    .dataframe tbody tr th {\n",
       "        vertical-align: top;\n",
       "    }\n",
       "\n",
       "    .dataframe thead th {\n",
       "        text-align: right;\n",
       "    }\n",
       "</style>\n",
       "<table border=\"1\" class=\"dataframe\">\n",
       "  <thead>\n",
       "    <tr style=\"text-align: right;\">\n",
       "      <th></th>\n",
       "      <th>date</th>\n",
       "      <th>winning_times</th>\n",
       "      <th>tail_wind</th>\n",
       "      <th>birth_date</th>\n",
       "      <th>country</th>\n",
       "    </tr>\n",
       "  </thead>\n",
       "  <tbody>\n",
       "    <tr>\n",
       "      <td>0</td>\n",
       "      <td>2009-08-16</td>\n",
       "      <td>9.58</td>\n",
       "      <td>0.9</td>\n",
       "      <td>1986-08-21</td>\n",
       "      <td>JAM</td>\n",
       "    </tr>\n",
       "    <tr>\n",
       "      <td>1</td>\n",
       "      <td>2012-05-08</td>\n",
       "      <td>9.63</td>\n",
       "      <td>1.5</td>\n",
       "      <td>1986-08-21</td>\n",
       "      <td>JAM</td>\n",
       "    </tr>\n",
       "    <tr>\n",
       "      <td>2</td>\n",
       "      <td>2008-08-16</td>\n",
       "      <td>9.69</td>\n",
       "      <td>0.0</td>\n",
       "      <td>1986-08-21</td>\n",
       "      <td>JAM</td>\n",
       "    </tr>\n",
       "    <tr>\n",
       "      <td>3</td>\n",
       "      <td>2009-09-20</td>\n",
       "      <td>9.69</td>\n",
       "      <td>2.0</td>\n",
       "      <td>1982-09-08</td>\n",
       "      <td>USA</td>\n",
       "    </tr>\n",
       "    <tr>\n",
       "      <td>4</td>\n",
       "      <td>2012-08-23</td>\n",
       "      <td>9.69</td>\n",
       "      <td>-0.1</td>\n",
       "      <td>1989-12-26</td>\n",
       "      <td>JAM</td>\n",
       "    </tr>\n",
       "  </tbody>\n",
       "</table>\n",
       "</div>"
      ],
      "text/plain": [
       "        date  winning_times  tail_wind birth_date country\n",
       "0 2009-08-16           9.58        0.9 1986-08-21     JAM\n",
       "1 2012-05-08           9.63        1.5 1986-08-21     JAM\n",
       "2 2008-08-16           9.69        0.0 1986-08-21     JAM\n",
       "3 2009-09-20           9.69        2.0 1982-09-08     USA\n",
       "4 2012-08-23           9.69       -0.1 1989-12-26     JAM"
      ]
     },
     "execution_count": 64,
     "metadata": {},
     "output_type": "execute_result"
    }
   ],
   "source": [
    "df.info()\n",
    "df.describe()\n",
    "df.head()"
   ]
  },
  {
   "cell_type": "code",
   "execution_count": 65,
   "metadata": {},
   "outputs": [
    {
     "name": "stdout",
     "output_type": "stream",
     "text": [
      "<class 'pandas.core.frame.DataFrame'>\n",
      "Int64Index: 3352 entries, 0 to 3362\n",
      "Data columns (total 5 columns):\n",
      "date             3352 non-null datetime64[ns]\n",
      "winning_times    3352 non-null float64\n",
      "tail_wind        3352 non-null float64\n",
      "birth_date       3352 non-null datetime64[ns]\n",
      "country          3352 non-null object\n",
      "dtypes: datetime64[ns](2), float64(2), object(1)\n",
      "memory usage: 157.1+ KB\n"
     ]
    }
   ],
   "source": [
    "df.dropna(axis=0, how='any', inplace=True)\n",
    "df.info()"
   ]
  },
  {
   "cell_type": "code",
   "execution_count": 66,
   "metadata": {},
   "outputs": [
    {
     "data": {
      "text/html": [
       "<div>\n",
       "<style scoped>\n",
       "    .dataframe tbody tr th:only-of-type {\n",
       "        vertical-align: middle;\n",
       "    }\n",
       "\n",
       "    .dataframe tbody tr th {\n",
       "        vertical-align: top;\n",
       "    }\n",
       "\n",
       "    .dataframe thead th {\n",
       "        text-align: right;\n",
       "    }\n",
       "</style>\n",
       "<table border=\"1\" class=\"dataframe\">\n",
       "  <thead>\n",
       "    <tr style=\"text-align: right;\">\n",
       "      <th></th>\n",
       "      <th>date</th>\n",
       "      <th>winning_times</th>\n",
       "      <th>tail_wind</th>\n",
       "      <th>birth_date</th>\n",
       "      <th>country</th>\n",
       "    </tr>\n",
       "  </thead>\n",
       "  <tbody>\n",
       "    <tr>\n",
       "      <td>0</td>\n",
       "      <td>2009-08-16</td>\n",
       "      <td>9.58</td>\n",
       "      <td>0.9</td>\n",
       "      <td>1986-08-21</td>\n",
       "      <td>JAM</td>\n",
       "    </tr>\n",
       "    <tr>\n",
       "      <td>1</td>\n",
       "      <td>2012-05-08</td>\n",
       "      <td>9.63</td>\n",
       "      <td>1.5</td>\n",
       "      <td>1986-08-21</td>\n",
       "      <td>JAM</td>\n",
       "    </tr>\n",
       "    <tr>\n",
       "      <td>2</td>\n",
       "      <td>2008-08-16</td>\n",
       "      <td>9.69</td>\n",
       "      <td>0.0</td>\n",
       "      <td>1986-08-21</td>\n",
       "      <td>JAM</td>\n",
       "    </tr>\n",
       "    <tr>\n",
       "      <td>3</td>\n",
       "      <td>2009-09-20</td>\n",
       "      <td>9.69</td>\n",
       "      <td>2.0</td>\n",
       "      <td>1982-09-08</td>\n",
       "      <td>USA</td>\n",
       "    </tr>\n",
       "    <tr>\n",
       "      <td>4</td>\n",
       "      <td>2012-08-23</td>\n",
       "      <td>9.69</td>\n",
       "      <td>-0.1</td>\n",
       "      <td>1989-12-26</td>\n",
       "      <td>JAM</td>\n",
       "    </tr>\n",
       "  </tbody>\n",
       "</table>\n",
       "</div>"
      ],
      "text/plain": [
       "        date  winning_times  tail_wind birth_date country\n",
       "0 2009-08-16           9.58        0.9 1986-08-21     JAM\n",
       "1 2012-05-08           9.63        1.5 1986-08-21     JAM\n",
       "2 2008-08-16           9.69        0.0 1986-08-21     JAM\n",
       "3 2009-09-20           9.69        2.0 1982-09-08     USA\n",
       "4 2012-08-23           9.69       -0.1 1989-12-26     JAM"
      ]
     },
     "execution_count": 66,
     "metadata": {},
     "output_type": "execute_result"
    }
   ],
   "source": [
    "df.head()"
   ]
  },
  {
   "cell_type": "code",
   "execution_count": 67,
   "metadata": {},
   "outputs": [],
   "source": [
    "df['age']= df['date'] - df['birth_date']"
   ]
  },
  {
   "cell_type": "code",
   "execution_count": 68,
   "metadata": {
    "scrolled": true
   },
   "outputs": [
    {
     "data": {
      "text/html": [
       "<div>\n",
       "<style scoped>\n",
       "    .dataframe tbody tr th:only-of-type {\n",
       "        vertical-align: middle;\n",
       "    }\n",
       "\n",
       "    .dataframe tbody tr th {\n",
       "        vertical-align: top;\n",
       "    }\n",
       "\n",
       "    .dataframe thead th {\n",
       "        text-align: right;\n",
       "    }\n",
       "</style>\n",
       "<table border=\"1\" class=\"dataframe\">\n",
       "  <thead>\n",
       "    <tr style=\"text-align: right;\">\n",
       "      <th></th>\n",
       "      <th>winning_times</th>\n",
       "      <th>tail_wind</th>\n",
       "      <th>birth_date</th>\n",
       "      <th>country</th>\n",
       "      <th>age</th>\n",
       "    </tr>\n",
       "    <tr>\n",
       "      <th>date</th>\n",
       "      <th></th>\n",
       "      <th></th>\n",
       "      <th></th>\n",
       "      <th></th>\n",
       "      <th></th>\n",
       "    </tr>\n",
       "  </thead>\n",
       "  <tbody>\n",
       "    <tr>\n",
       "      <td>2009-08-16</td>\n",
       "      <td>9.58</td>\n",
       "      <td>0.9</td>\n",
       "      <td>1986-08-21</td>\n",
       "      <td>JAM</td>\n",
       "      <td>8396 days</td>\n",
       "    </tr>\n",
       "    <tr>\n",
       "      <td>2012-05-08</td>\n",
       "      <td>9.63</td>\n",
       "      <td>1.5</td>\n",
       "      <td>1986-08-21</td>\n",
       "      <td>JAM</td>\n",
       "      <td>9392 days</td>\n",
       "    </tr>\n",
       "    <tr>\n",
       "      <td>2008-08-16</td>\n",
       "      <td>9.69</td>\n",
       "      <td>0.0</td>\n",
       "      <td>1986-08-21</td>\n",
       "      <td>JAM</td>\n",
       "      <td>8031 days</td>\n",
       "    </tr>\n",
       "    <tr>\n",
       "      <td>2009-09-20</td>\n",
       "      <td>9.69</td>\n",
       "      <td>2.0</td>\n",
       "      <td>1982-09-08</td>\n",
       "      <td>USA</td>\n",
       "      <td>9874 days</td>\n",
       "    </tr>\n",
       "    <tr>\n",
       "      <td>2012-08-23</td>\n",
       "      <td>9.69</td>\n",
       "      <td>-0.1</td>\n",
       "      <td>1989-12-26</td>\n",
       "      <td>JAM</td>\n",
       "      <td>8276 days</td>\n",
       "    </tr>\n",
       "  </tbody>\n",
       "</table>\n",
       "</div>"
      ],
      "text/plain": [
       "            winning_times  tail_wind birth_date country       age\n",
       "date                                                             \n",
       "2009-08-16           9.58        0.9 1986-08-21     JAM 8396 days\n",
       "2012-05-08           9.63        1.5 1986-08-21     JAM 9392 days\n",
       "2008-08-16           9.69        0.0 1986-08-21     JAM 8031 days\n",
       "2009-09-20           9.69        2.0 1982-09-08     USA 9874 days\n",
       "2012-08-23           9.69       -0.1 1989-12-26     JAM 8276 days"
      ]
     },
     "execution_count": 66,
     "metadata": {},
     "output_type": "execute_result"
    }
   ],
   "source": [
    "df.head()"
   ]
  },
  {
   "cell_type": "code",
   "execution_count": 68,
   "metadata": {},
   "outputs": [],
   "source": [
    "df['age'] = df['age'].apply(lambda x: x.days)"
   ]
  },
  {
   "cell_type": "code",
   "execution_count": 71,
   "metadata": {},
   "outputs": [],
   "source": [
    "df['age'] = df['age']/365"
   ]
  },
  {
   "cell_type": "code",
   "execution_count": 72,
   "metadata": {},
   "outputs": [
    {
     "data": {
      "text/html": [
       "<div>\n",
       "<style scoped>\n",
       "    .dataframe tbody tr th:only-of-type {\n",
       "        vertical-align: middle;\n",
       "    }\n",
       "\n",
       "    .dataframe tbody tr th {\n",
       "        vertical-align: top;\n",
       "    }\n",
       "\n",
       "    .dataframe thead th {\n",
       "        text-align: right;\n",
       "    }\n",
       "</style>\n",
       "<table border=\"1\" class=\"dataframe\">\n",
       "  <thead>\n",
       "    <tr style=\"text-align: right;\">\n",
       "      <th></th>\n",
       "      <th>date</th>\n",
       "      <th>winning_times</th>\n",
       "      <th>tail_wind</th>\n",
       "      <th>birth_date</th>\n",
       "      <th>country</th>\n",
       "      <th>age</th>\n",
       "    </tr>\n",
       "  </thead>\n",
       "  <tbody>\n",
       "    <tr>\n",
       "      <th>0</th>\n",
       "      <td>2009-08-16</td>\n",
       "      <td>9.58</td>\n",
       "      <td>0.9</td>\n",
       "      <td>1986-08-21</td>\n",
       "      <td>JAM</td>\n",
       "      <td>23.002740</td>\n",
       "    </tr>\n",
       "    <tr>\n",
       "      <th>1</th>\n",
       "      <td>2012-05-08</td>\n",
       "      <td>9.63</td>\n",
       "      <td>1.5</td>\n",
       "      <td>1986-08-21</td>\n",
       "      <td>JAM</td>\n",
       "      <td>25.731507</td>\n",
       "    </tr>\n",
       "    <tr>\n",
       "      <th>2</th>\n",
       "      <td>2008-08-16</td>\n",
       "      <td>9.69</td>\n",
       "      <td>0.0</td>\n",
       "      <td>1986-08-21</td>\n",
       "      <td>JAM</td>\n",
       "      <td>22.002740</td>\n",
       "    </tr>\n",
       "    <tr>\n",
       "      <th>3</th>\n",
       "      <td>2009-09-20</td>\n",
       "      <td>9.69</td>\n",
       "      <td>2.0</td>\n",
       "      <td>1982-09-08</td>\n",
       "      <td>USA</td>\n",
       "      <td>27.052055</td>\n",
       "    </tr>\n",
       "    <tr>\n",
       "      <th>4</th>\n",
       "      <td>2012-08-23</td>\n",
       "      <td>9.69</td>\n",
       "      <td>-0.1</td>\n",
       "      <td>1989-12-26</td>\n",
       "      <td>JAM</td>\n",
       "      <td>22.673973</td>\n",
       "    </tr>\n",
       "  </tbody>\n",
       "</table>\n",
       "</div>"
      ],
      "text/plain": [
       "        date  winning_times  tail_wind birth_date country        age\n",
       "0 2009-08-16           9.58        0.9 1986-08-21     JAM  23.002740\n",
       "1 2012-05-08           9.63        1.5 1986-08-21     JAM  25.731507\n",
       "2 2008-08-16           9.69        0.0 1986-08-21     JAM  22.002740\n",
       "3 2009-09-20           9.69        2.0 1982-09-08     USA  27.052055\n",
       "4 2012-08-23           9.69       -0.1 1989-12-26     JAM  22.673973"
      ]
     },
     "execution_count": 72,
     "metadata": {},
     "output_type": "execute_result"
    }
   ],
   "source": [
    "df = df.set_index('date')\n",
    "df.head()"
   ]
  },
  {
   "cell_type": "code",
   "execution_count": 99,
   "metadata": {},
   "outputs": [],
   "source": [
    "df['age'] = df['age'].apply(lambda x: x.days)\n",
    "df['age'] = df['age']/365"
   ]
  },
  {
   "cell_type": "code",
   "execution_count": 101,
   "metadata": {},
   "outputs": [
    {
     "name": "stdout",
     "output_type": "stream",
     "text": [
      "<class 'pandas.core.frame.DataFrame'>\n",
      "DatetimeIndex: 3352 entries, 2009-08-16 to 2019-09-28\n",
      "Data columns (total 5 columns):\n",
      "winning_times    3352 non-null float64\n",
      "tail_wind        3352 non-null float64\n",
      "birth_date       3352 non-null datetime64[ns]\n",
      "country          3352 non-null object\n",
      "age              3352 non-null float64\n",
      "dtypes: datetime64[ns](1), float64(3), object(1)\n",
      "memory usage: 157.1+ KB\n"
     ]
    }
   ],
   "source": [
    "df.info()"
   ]
  },
  {
   "cell_type": "code",
   "execution_count": 102,
   "metadata": {},
   "outputs": [],
   "source": [
    "# saving scraped and cleaned data to csv and working from csv going forward \n",
    "# so that we don't have to repeatedly scrape the url\n",
    "\n",
    "df.to_csv('mens_100m.csv')"
   ]
  },
  {
   "cell_type": "markdown",
   "metadata": {},
   "source": [
    "## To run cells, start here with csv import "
   ]
  },
  {
   "cell_type": "code",
   "execution_count": 90,
   "metadata": {},
   "outputs": [
    {
     "name": "stdout",
     "output_type": "stream",
     "text": [
      "<class 'pandas.core.frame.DataFrame'>\n",
      "Index: 3352 entries, 2009-08-16 to 2019-09-28\n",
      "Data columns (total 5 columns):\n",
      "winning_times    3352 non-null float64\n",
      "tail_wind        3352 non-null float64\n",
      "birth_date       3352 non-null object\n",
      "country          3352 non-null object\n",
      "age              3352 non-null float64\n",
      "dtypes: float64(3), object(2)\n",
      "memory usage: 157.1+ KB\n"
     ]
    }
   ],
   "source": [
    "data = pd.read_csv('mens_100m.csv', index_col='date')\n",
    "data.info()"
   ]
  },
  {
   "cell_type": "code",
   "execution_count": 91,
   "metadata": {},
   "outputs": [],
   "source": [
    "data.index = pd.to_datetime(data.index)\n",
    "data['birth_date'] = pd.to_datetime(data['birth_date'])"
   ]
  },
  {
   "cell_type": "code",
   "execution_count": 92,
   "metadata": {},
   "outputs": [
    {
     "name": "stdout",
     "output_type": "stream",
     "text": [
      "<class 'pandas.core.frame.DataFrame'>\n",
      "DatetimeIndex: 3352 entries, 2009-08-16 to 2019-09-28\n",
      "Data columns (total 5 columns):\n",
      "winning_times    3352 non-null float64\n",
      "tail_wind        3352 non-null float64\n",
      "birth_date       3352 non-null datetime64[ns]\n",
      "country          3352 non-null object\n",
      "age              3352 non-null float64\n",
      "dtypes: datetime64[ns](1), float64(3), object(1)\n",
      "memory usage: 157.1+ KB\n"
     ]
    }
   ],
   "source": [
    "data.info()"
   ]
  },
  {
   "cell_type": "code",
   "execution_count": 93,
   "metadata": {
    "scrolled": true
   },
   "outputs": [
    {
     "data": {
      "text/html": [
       "<div>\n",
       "<style scoped>\n",
       "    .dataframe tbody tr th:only-of-type {\n",
       "        vertical-align: middle;\n",
       "    }\n",
       "\n",
       "    .dataframe tbody tr th {\n",
       "        vertical-align: top;\n",
       "    }\n",
       "\n",
       "    .dataframe thead th {\n",
       "        text-align: right;\n",
       "    }\n",
       "</style>\n",
       "<table border=\"1\" class=\"dataframe\">\n",
       "  <thead>\n",
       "    <tr style=\"text-align: right;\">\n",
       "      <th></th>\n",
       "      <th>winning_times</th>\n",
       "      <th>tail_wind</th>\n",
       "      <th>birth_date</th>\n",
       "      <th>country</th>\n",
       "      <th>age</th>\n",
       "    </tr>\n",
       "    <tr>\n",
       "      <th>date</th>\n",
       "      <th></th>\n",
       "      <th></th>\n",
       "      <th></th>\n",
       "      <th></th>\n",
       "      <th></th>\n",
       "    </tr>\n",
       "  </thead>\n",
       "  <tbody>\n",
       "    <tr>\n",
       "      <td>2009-08-16</td>\n",
       "      <td>9.58</td>\n",
       "      <td>0.9</td>\n",
       "      <td>1986-08-21</td>\n",
       "      <td>JAM</td>\n",
       "      <td>23.002740</td>\n",
       "    </tr>\n",
       "    <tr>\n",
       "      <td>2012-05-08</td>\n",
       "      <td>9.63</td>\n",
       "      <td>1.5</td>\n",
       "      <td>1986-08-21</td>\n",
       "      <td>JAM</td>\n",
       "      <td>25.731507</td>\n",
       "    </tr>\n",
       "    <tr>\n",
       "      <td>2008-08-16</td>\n",
       "      <td>9.69</td>\n",
       "      <td>0.0</td>\n",
       "      <td>1986-08-21</td>\n",
       "      <td>JAM</td>\n",
       "      <td>22.002740</td>\n",
       "    </tr>\n",
       "    <tr>\n",
       "      <td>2009-09-20</td>\n",
       "      <td>9.69</td>\n",
       "      <td>2.0</td>\n",
       "      <td>1982-09-08</td>\n",
       "      <td>USA</td>\n",
       "      <td>27.052055</td>\n",
       "    </tr>\n",
       "    <tr>\n",
       "      <td>2012-08-23</td>\n",
       "      <td>9.69</td>\n",
       "      <td>-0.1</td>\n",
       "      <td>1989-12-26</td>\n",
       "      <td>JAM</td>\n",
       "      <td>22.673973</td>\n",
       "    </tr>\n",
       "  </tbody>\n",
       "</table>\n",
       "</div>"
      ],
      "text/plain": [
       "            winning_times  tail_wind birth_date country        age\n",
       "date                                                              \n",
       "2009-08-16           9.58        0.9 1986-08-21     JAM  23.002740\n",
       "2012-05-08           9.63        1.5 1986-08-21     JAM  25.731507\n",
       "2008-08-16           9.69        0.0 1986-08-21     JAM  22.002740\n",
       "2009-09-20           9.69        2.0 1982-09-08     USA  27.052055\n",
       "2012-08-23           9.69       -0.1 1989-12-26     JAM  22.673973"
      ]
     },
     "execution_count": 93,
     "metadata": {},
     "output_type": "execute_result"
    }
   ],
   "source": [
    "data.head()"
   ]
  },
  {
   "cell_type": "markdown",
   "metadata": {},
   "source": [
    "## Poisson Process: looking at times under 9.8 seconds"
   ]
  },
  {
   "cell_type": "code",
   "execution_count": 94,
   "metadata": {},
   "outputs": [],
   "source": [
    "fast = data['winning_times'] < 9.8 # create mask to retrieve winning times less than 9.8 seconds"
   ]
  },
  {
   "cell_type": "code",
   "execution_count": 95,
   "metadata": {},
   "outputs": [],
   "source": [
    "fast_date = data[fast].index.min() #date first sub 9.8 second time was run"
   ]
  },
  {
   "cell_type": "code",
   "execution_count": 96,
   "metadata": {},
   "outputs": [
    {
     "data": {
      "text/plain": [
       "Timestamp('1999-06-16 00:00:00')"
      ]
     },
     "execution_count": 96,
     "metadata": {},
     "output_type": "execute_result"
    }
   ],
   "source": [
    "fast_date"
   ]
  },
  {
   "cell_type": "code",
   "execution_count": 97,
   "metadata": {},
   "outputs": [
    {
     "data": {
      "text/plain": [
       "date\n",
       "1999-12-31    1\n",
       "2000-12-31    0\n",
       "2001-12-31    0\n",
       "2002-12-31    0\n",
       "2003-12-31    0\n",
       "2004-12-31    0\n",
       "2005-12-31    1\n",
       "2006-12-31    2\n",
       "2007-12-31    2\n",
       "2008-12-31    7\n",
       "2009-12-31    5\n",
       "2010-12-31    3\n",
       "2011-12-31    3\n",
       "2012-12-31    8\n",
       "2013-12-31    1\n",
       "2014-12-31    1\n",
       "2015-12-31    6\n",
       "2016-12-31    0\n",
       "2017-12-31    0\n",
       "2018-12-31    1\n",
       "2019-12-31    1\n",
       "Freq: A-DEC, Name: winning_times, dtype: int64"
      ]
     },
     "execution_count": 97,
     "metadata": {},
     "output_type": "execute_result"
    }
   ],
   "source": [
    "# number of winning times under 9.8 seconds by year\n",
    "by_year = data[fast].groupby(pd.Grouper(freq='A')).count()['winning_times']\n",
    "by_year"
   ]
  },
  {
   "cell_type": "code",
   "execution_count": 98,
   "metadata": {},
   "outputs": [],
   "source": [
    "low_by_year = np.array(by_year)"
   ]
  },
  {
   "cell_type": "code",
   "execution_count": 99,
   "metadata": {},
   "outputs": [],
   "source": [
    "speed_era = data.index >= fast_date # all dates after first sub 9.8 time"
   ]
  },
  {
   "cell_type": "code",
   "execution_count": 100,
   "metadata": {},
   "outputs": [
    {
     "name": "stdout",
     "output_type": "stream",
     "text": [
      "<class 'pandas.core.frame.DataFrame'>\n",
      "DatetimeIndex: 2600 entries, 2009-08-16 to 2019-09-28\n",
      "Data columns (total 5 columns):\n",
      "winning_times    2600 non-null float64\n",
      "tail_wind        2600 non-null float64\n",
      "birth_date       2600 non-null datetime64[ns]\n",
      "country          2600 non-null object\n",
      "age              2600 non-null float64\n",
      "dtypes: datetime64[ns](1), float64(3), object(1)\n",
      "memory usage: 121.9+ KB\n"
     ]
    }
   ],
   "source": [
    "data_fast = data[speed_era] # dataframe off all times after 9.8 seconds was first recorded\n",
    "data_fast.info()"
   ]
  },
  {
   "cell_type": "code",
   "execution_count": 101,
   "metadata": {},
   "outputs": [],
   "source": [
    "under_dates = np.array(data[fast].index)\n",
    "under_dates = np.sort(under_dates)"
   ]
  },
  {
   "cell_type": "code",
   "execution_count": 102,
   "metadata": {},
   "outputs": [
    {
     "data": {
      "text/plain": [
       "array(['1999-06-16T00:00:00.000000000', '2005-06-14T00:00:00.000000000',\n",
       "       '2006-08-18T00:00:00.000000000', '2006-11-06T00:00:00.000000000',\n",
       "       '2007-09-09T00:00:00.000000000', '2007-09-09T00:00:00.000000000'],\n",
       "      dtype='datetime64[ns]')"
      ]
     },
     "execution_count": 102,
     "metadata": {},
     "output_type": "execute_result"
    }
   ],
   "source": [
    "under_dates[:6] # note that sometimes sub 9.8 times were run on the same day (i.e. the 5th and 6th winning times in the array)"
   ]
  },
  {
   "cell_type": "code",
   "execution_count": 103,
   "metadata": {},
   "outputs": [],
   "source": [
    "def time_delta(datetime_array): # getting time between sub 9.8 runs in days\n",
    "    diff=[]\n",
    "    for i, date in enumerate(datetime_array):\n",
    "        if i==0:\n",
    "            continue\n",
    "        else:\n",
    "            prior = np.datetime64(datetime_array[i - 1])\n",
    "            current = np.datetime64(datetime_array[i])\n",
    "            d = current - prior\n",
    "            days = d.astype('timedelta64[D]')\n",
    "            delta = days / np.timedelta64(1, 'D')\n",
    "\n",
    "            try:\n",
    "                diff.append(delta)\n",
    "            except:\n",
    "                continue\n",
    "    return diff"
   ]
  },
  {
   "cell_type": "code",
   "execution_count": 104,
   "metadata": {},
   "outputs": [
    {
     "data": {
      "text/plain": [
       "[2190.0, 430.0, 80.0, 307.0, 0.0]"
      ]
     },
     "execution_count": 104,
     "metadata": {},
     "output_type": "execute_result"
    }
   ],
   "source": [
    "days_between = time_delta(under_dates) \n",
    "days_between[:5]"
   ]
  },
  {
   "cell_type": "markdown",
   "metadata": {},
   "source": [
    "### Model time between rare events as exponential function"
   ]
  },
  {
   "cell_type": "code",
   "execution_count": 105,
   "metadata": {},
   "outputs": [
    {
     "name": "stderr",
     "output_type": "stream",
     "text": [
      "C:\\Users\\achil\\Anaconda3\\envs\\learn-env\\lib\\site-packages\\ipykernel_launcher.py:13: MatplotlibDeprecationWarning: \n",
      "The 'normed' kwarg was deprecated in Matplotlib 2.1 and will be removed in 3.1. Use 'density' instead.\n",
      "  del sys.path[0]\n"
     ]
    },
    {
     "data": {
      "image/png": "[encoded data removed]",
      "text/plain": [
       "<Figure size 432x288 with 1 Axes>"
      ]
     },
     "metadata": {},
     "output_type": "display_data"
    }
   ],
   "source": [
    "# if we assume that winning times under 9.8 seconds are described by a Poisson process, \n",
    "# then the time between times under 9.8s is exponentially distributed\n",
    "# time is in unites of number of days between winning times under 9.8 seconds\n",
    "\n",
    "# Compute mean days-between time: t\n",
    "t = np.mean(days_between)\n",
    "\n",
    "# Draw out of an exponential distribution with parameter t: days_between_time\n",
    "days_between_time = np.random.exponential(t, 10000)\n",
    "\n",
    "# Plot the PDF and label axes\n",
    "_ = plt.hist(days_between_time,\n",
    "             bins=50, normed=True, histtype='step')\n",
    "_ = plt.xlabel('Days between times under 9.8s')\n",
    "_ = plt.ylabel('PDF')"
   ]
  },
  {
   "cell_type": "markdown",
   "metadata": {},
   "source": [
    "### Compare the theoretical distribution created above with the empirical data"
   ]
  },
  {
   "cell_type": "code",
   "execution_count": 106,
   "metadata": {},
   "outputs": [],
   "source": [
    "def ecdf(data):\n",
    "    '''Compute ECDF for array of measurements'''\n",
    "    # Number of data points: n\n",
    "    n = len(data)\n",
    "    \n",
    "    # x-axis data for the ECDF: x\n",
    "    x = np.sort(data)\n",
    "    \n",
    "    #y-axis data for the ECDF: y\n",
    "    y = np.arange(1, n+1) / n # y data of ECDF go from 1/n to 1 in equally spaced increments\n",
    "    \n",
    "    return x, y"
   ]
  },
  {
   "cell_type": "code",
   "execution_count": 107,
   "metadata": {},
   "outputs": [
    {
     "data": {
      "text/plain": [
       "Text(0, 0.5, 'CDF')"
      ]
     },
     "execution_count": 107,
     "metadata": {},
     "output_type": "execute_result"
    },
    {
     "data": {
      "image/png": "[encoded data removed]",
      "text/plain": [
       "<Figure size 432x288 with 1 Axes>"
      ]
     },
     "metadata": {},
     "output_type": "display_data"
    }
   ],
   "source": [
    "# Create an ECDF from real data: x, y\n",
    "x,y = ecdf(days_between)\n",
    "# Create a CDF from theoretical samples: x_theor, y_theor\n",
    "x_theor, y_theor = ecdf(days_between_time)\n",
    "\n",
    "# Overlay the plots\n",
    "plt.plot(x_theor, y_theor)\n",
    "plt.plot(x, y, marker='.', linestyle='none')\n",
    "\n",
    "# Margins and axis labels\n",
    "plt.margins(0.02)\n",
    "plt.xlabel('Days between times under 9.8s')\n",
    "plt.ylabel('CDF')"
   ]
  },
  {
   "cell_type": "code",
   "execution_count": 108,
   "metadata": {},
   "outputs": [
    {
     "data": {
      "image/png": "[encoded data removed]",
      "text/plain": [
       "<Figure size 432x288 with 1 Axes>"
      ]
     },
     "metadata": {},
     "output_type": "display_data"
    }
   ],
   "source": [
    "# Compute ECDF for run times under 9.8 seconds: x_low, y_low\n",
    "sns.set()\n",
    "x_low, y_low = ecdf(low_by_year)\n",
    "\n",
    "# Generate plot\n",
    "_ = plt.plot(x_low, y_low, marker='.', linestyle='none')\n",
    "\n",
    "# Label the axes\n",
    "_ = plt.xlabel('Occurrences Each Year')\n",
    "_ = plt.ylabel('ECDF')\n",
    "_ = plt.title('Winning Times Under 9.8s Since First in 1999')"
   ]
  },
  {
   "cell_type": "code",
   "execution_count": null,
   "metadata": {},
   "outputs": [],
   "source": []
  },
  {
   "cell_type": "markdown",
   "metadata": {},
   "source": [
    "## Understand whether data are normally distributed"
   ]
  },
  {
   "cell_type": "code",
   "execution_count": 109,
   "metadata": {},
   "outputs": [],
   "source": [
    "win_times = np.array(data.winning_times)"
   ]
  },
  {
   "cell_type": "code",
   "execution_count": 110,
   "metadata": {},
   "outputs": [
    {
     "data": {
      "image/png": "[encoded data removed]",
      "text/plain": [
       "<Figure size 432x288 with 1 Axes>"
      ]
     },
     "metadata": {},
     "output_type": "display_data"
    }
   ],
   "source": [
    "# Compute mean and standard deviation: mu, sigma\n",
    "mu = np.mean(win_times)\n",
    "sigma = np.std(win_times)\n",
    "\n",
    "# Sample out of a normal distribution with this mu and sigma: samples\n",
    "samples = np.random.normal(mu, sigma, size=10000)\n",
    "\n",
    "# Get the CDF of the samples and of the data\n",
    "x_times, y_times = ecdf(samples)\n",
    "x, y = ecdf(win_times)\n",
    "\n",
    "# Plot the CDFs and show the plot\n",
    "_ = plt.plot(x_times, y_times)\n",
    "_ = plt.plot(x, y, marker='.', linestyle='none')\n",
    "_ = plt.xlabel(\"Men's winning time (sec.)\")\n",
    "_ = plt.ylabel('CDF')"
   ]
  },
  {
   "cell_type": "markdown",
   "metadata": {},
   "source": [
    "## Hypothesis Testing"
   ]
  },
  {
   "cell_type": "markdown",
   "metadata": {},
   "source": [
    "### Hypothesis 1: Tailwind"
   ]
  },
  {
   "cell_type": "markdown",
   "metadata": {},
   "source": [
    "\n",
    "$H_{0}$: The mean difference between treatment and control groups is zero. i.e. $\\mu_{0} = \\mu_{1}$"
   ]
  },
  {
   "cell_type": "code",
   "execution_count": null,
   "metadata": {},
   "outputs": [],
   "source": []
  },
  {
   "cell_type": "markdown",
   "metadata": {},
   "source": [
    "### Creating functions to calculate t-value"
   ]
  },
  {
   "cell_type": "code",
   "execution_count": 111,
   "metadata": {},
   "outputs": [],
   "source": [
    "def sample_variance(sample):\n",
    "    x_bar = np.mean(sample)\n",
    "    diff = sample - x_bar\n",
    "    sq_diff = diff**2\n",
    "    n=len(sample) - 1\n",
    "    \n",
    "    return np.sum(sq_diff)/n"
   ]
  },
  {
   "cell_type": "code",
   "execution_count": 112,
   "metadata": {},
   "outputs": [],
   "source": [
    "def pooled_variance(sample1, sample2):\n",
    "    n1 = len(sample1)\n",
    "    n2 = len(sample2)\n",
    "    s1 = sample_variance(sample1)\n",
    "    s2 = sample_variance(sample2)\n",
    "    return ((n1 - 1)*s1 + (n2 - 1)*s2) / (n1 + n2 - 2)"
   ]
  },
  {
   "cell_type": "code",
   "execution_count": 113,
   "metadata": {},
   "outputs": [],
   "source": [
    "def twosample_tstatistic(expr, ctrl):\n",
    "    expr_mean = np.mean(expr)\n",
    "    ctrl_mean = np.mean(ctrl)\n",
    "    var = pooled_variance(expr, ctrl)\n",
    "    n_expr = len(expr)\n",
    "    n_ctrl = len(ctrl)\n",
    "    numerator = expr_mean - ctrl_mean\n",
    "    denominator = np.sqrt(var*(1/n_expr + 1/n_ctrl))\n",
    "\n",
    "    return numerator / denominator"
   ]
  },
  {
   "cell_type": "code",
   "execution_count": 114,
   "metadata": {},
   "outputs": [
    {
     "data": {
      "text/html": [
       "<div>\n",
       "<style scoped>\n",
       "    .dataframe tbody tr th:only-of-type {\n",
       "        vertical-align: middle;\n",
       "    }\n",
       "\n",
       "    .dataframe tbody tr th {\n",
       "        vertical-align: top;\n",
       "    }\n",
       "\n",
       "    .dataframe thead th {\n",
       "        text-align: right;\n",
       "    }\n",
       "</style>\n",
       "<table border=\"1\" class=\"dataframe\">\n",
       "  <thead>\n",
       "    <tr style=\"text-align: right;\">\n",
       "      <th></th>\n",
       "      <th>winning_times</th>\n",
       "      <th>tail_wind</th>\n",
       "      <th>birth_date</th>\n",
       "      <th>country</th>\n",
       "      <th>age</th>\n",
       "    </tr>\n",
       "    <tr>\n",
       "      <th>date</th>\n",
       "      <th></th>\n",
       "      <th></th>\n",
       "      <th></th>\n",
       "      <th></th>\n",
       "      <th></th>\n",
       "    </tr>\n",
       "  </thead>\n",
       "  <tbody>\n",
       "    <tr>\n",
       "      <td>2009-08-16</td>\n",
       "      <td>9.58</td>\n",
       "      <td>0.9</td>\n",
       "      <td>1986-08-21</td>\n",
       "      <td>JAM</td>\n",
       "      <td>23.002740</td>\n",
       "    </tr>\n",
       "    <tr>\n",
       "      <td>2012-05-08</td>\n",
       "      <td>9.63</td>\n",
       "      <td>1.5</td>\n",
       "      <td>1986-08-21</td>\n",
       "      <td>JAM</td>\n",
       "      <td>25.731507</td>\n",
       "    </tr>\n",
       "    <tr>\n",
       "      <td>2008-08-16</td>\n",
       "      <td>9.69</td>\n",
       "      <td>0.0</td>\n",
       "      <td>1986-08-21</td>\n",
       "      <td>JAM</td>\n",
       "      <td>22.002740</td>\n",
       "    </tr>\n",
       "    <tr>\n",
       "      <td>2009-09-20</td>\n",
       "      <td>9.69</td>\n",
       "      <td>2.0</td>\n",
       "      <td>1982-09-08</td>\n",
       "      <td>USA</td>\n",
       "      <td>27.052055</td>\n",
       "    </tr>\n",
       "    <tr>\n",
       "      <td>2012-08-23</td>\n",
       "      <td>9.69</td>\n",
       "      <td>-0.1</td>\n",
       "      <td>1989-12-26</td>\n",
       "      <td>JAM</td>\n",
       "      <td>22.673973</td>\n",
       "    </tr>\n",
       "  </tbody>\n",
       "</table>\n",
       "</div>"
      ],
      "text/plain": [
       "            winning_times  tail_wind birth_date country        age\n",
       "date                                                              \n",
       "2009-08-16           9.58        0.9 1986-08-21     JAM  23.002740\n",
       "2012-05-08           9.63        1.5 1986-08-21     JAM  25.731507\n",
       "2008-08-16           9.69        0.0 1986-08-21     JAM  22.002740\n",
       "2009-09-20           9.69        2.0 1982-09-08     USA  27.052055\n",
       "2012-08-23           9.69       -0.1 1989-12-26     JAM  22.673973"
      ]
     },
     "execution_count": 114,
     "metadata": {},
     "output_type": "execute_result"
    }
   ],
   "source": [
    "data.head()"
   ]
  },
  {
   "cell_type": "code",
   "execution_count": 115,
   "metadata": {},
   "outputs": [],
   "source": [
    "length = len(data.index)\n",
    "if length%2 == 0:\n",
    "    h1 = int(length/2)\n",
    "else:\n",
    "    h1 = int(round(length/2))"
   ]
  },
  {
   "cell_type": "code",
   "execution_count": 116,
   "metadata": {},
   "outputs": [],
   "source": [
    "by_times = data.sort_values(by='winning_times')"
   ]
  },
  {
   "cell_type": "code",
   "execution_count": 117,
   "metadata": {},
   "outputs": [],
   "source": [
    "tw_expr = np.array(by_times.tail_wind)[:h1]"
   ]
  },
  {
   "cell_type": "code",
   "execution_count": 118,
   "metadata": {},
   "outputs": [],
   "source": [
    "tw_ctrl = np.array(by_times.tail_wind)[h1:]"
   ]
  },
  {
   "cell_type": "code",
   "execution_count": 119,
   "metadata": {},
   "outputs": [
    {
     "data": {
      "text/plain": [
       "0.6433358312780174"
      ]
     },
     "metadata": {},
     "output_type": "display_data"
    },
    {
     "data": {
      "text/plain": [
       "0.8082119711951972"
      ]
     },
     "metadata": {},
     "output_type": "display_data"
    }
   ],
   "source": [
    "display(np.var(tw_expr))\n",
    "display(np.var(tw_ctrl))"
   ]
  },
  {
   "cell_type": "code",
   "execution_count": 120,
   "metadata": {},
   "outputs": [
    {
     "data": {
      "text/plain": [
       "2.5700227847864445"
      ]
     },
     "execution_count": 120,
     "metadata": {},
     "output_type": "execute_result"
    }
   ],
   "source": [
    "twosample_tstatistic(tw_expr, tw_ctrl)"
   ]
  },
  {
   "cell_type": "code",
   "execution_count": 121,
   "metadata": {},
   "outputs": [
    {
     "data": {
      "text/plain": [
       "1.6453086099891936"
      ]
     },
     "execution_count": 121,
     "metadata": {},
     "output_type": "execute_result"
    }
   ],
   "source": [
    "#critical t-value for alpha 0.05 and one tailed\n",
    "stats.t.ppf(1-0.05, (len(tw_ctrl)+len(tw_expr)-2))"
   ]
  },
  {
   "cell_type": "code",
   "execution_count": 122,
   "metadata": {},
   "outputs": [
    {
     "data": {
      "text/plain": [
       "0.6048329355608593"
      ]
     },
     "metadata": {},
     "output_type": "display_data"
    },
    {
     "data": {
      "text/plain": [
       "0.5291766109785202"
      ]
     },
     "metadata": {},
     "output_type": "display_data"
    }
   ],
   "source": [
    "display(np.mean(tw_expr))\n",
    "display(np.mean(tw_ctrl))"
   ]
  },
  {
   "cell_type": "code",
   "execution_count": 123,
   "metadata": {},
   "outputs": [
    {
     "data": {
      "text/plain": [
       "Ttest_indResult(statistic=2.5700227847864445, pvalue=0.010212035743735194)"
      ]
     },
     "execution_count": 123,
     "metadata": {},
     "output_type": "execute_result"
    }
   ],
   "source": [
    "stats.ttest_ind(tw_expr, tw_ctrl)"
   ]
  },
  {
   "cell_type": "code",
   "execution_count": 124,
   "metadata": {},
   "outputs": [
    {
     "data": {
      "text/plain": [
       "Timestamp('1964-10-15 00:00:00')"
      ]
     },
     "execution_count": 124,
     "metadata": {},
     "output_type": "execute_result"
    }
   ],
   "source": [
    "data.index.min()"
   ]
  },
  {
   "cell_type": "code",
   "execution_count": 125,
   "metadata": {},
   "outputs": [
    {
     "data": {
      "text/plain": [
       "Timestamp('2019-12-07 00:00:00')"
      ]
     },
     "execution_count": 125,
     "metadata": {},
     "output_type": "execute_result"
    }
   ],
   "source": [
    "data.index.max()"
   ]
  },
  {
   "cell_type": "code",
   "execution_count": 126,
   "metadata": {},
   "outputs": [],
   "source": [
    "by_date = data.sort_index()"
   ]
  },
  {
   "cell_type": "code",
   "execution_count": 127,
   "metadata": {},
   "outputs": [],
   "source": [
    "dates = by_date.index\n",
    "times = by_date.winning_times "
   ]
  },
  {
   "cell_type": "code",
   "execution_count": 128,
   "metadata": {},
   "outputs": [
    {
     "data": {
      "image/png": "[encoded data removed]",
      "text/plain": [
       "<Figure size 432x288 with 1 Axes>"
      ]
     },
     "metadata": {},
     "output_type": "display_data"
    }
   ],
   "source": [
    "_= plt.plot(dates, times, marker='.', linestyle='none')"
   ]
  },
  {
   "cell_type": "code",
   "execution_count": 129,
   "metadata": {},
   "outputs": [
    {
     "data": {
      "text/plain": [
       "(array([   2.,    0.,    6.,   26.,   38.,  115.,  219.,  455.,  786.,\n",
       "        1705.]),\n",
       " array([ 9.58 ,  9.631,  9.682,  9.733,  9.784,  9.835,  9.886,  9.937,\n",
       "         9.988, 10.039, 10.09 ]),\n",
       " <a list of 10 Patch objects>)"
      ]
     },
     "execution_count": 129,
     "metadata": {},
     "output_type": "execute_result"
    },
    {
     "data": {
      "image/png": "[encoded data removed]",
      "text/plain": [
       "<Figure size 432x288 with 1 Axes>"
      ]
     },
     "metadata": {},
     "output_type": "display_data"
    }
   ],
   "source": [
    "plt.hist(times)"
   ]
  },
  {
   "cell_type": "code",
   "execution_count": 130,
   "metadata": {
    "scrolled": true
   },
   "outputs": [
    {
     "data": {
      "text/plain": [
       "Timestamp('2009-11-06 00:00:00')"
      ]
     },
     "execution_count": 130,
     "metadata": {},
     "output_type": "execute_result"
    }
   ],
   "source": [
    "by_date.index[h1] # 50% of the data divide"
   ]
  },
  {
   "cell_type": "code",
   "execution_count": 131,
   "metadata": {},
   "outputs": [],
   "source": [
    "by_age = data.sort_values(by='age')"
   ]
  },
  {
   "cell_type": "code",
   "execution_count": 132,
   "metadata": {},
   "outputs": [],
   "source": [
    "by_age = by_age[by_age['age'] > 0]"
   ]
  },
  {
   "cell_type": "code",
   "execution_count": 133,
   "metadata": {},
   "outputs": [
    {
     "data": {
      "text/plain": [
       "40.1972602739726"
      ]
     },
     "execution_count": 133,
     "metadata": {},
     "output_type": "execute_result"
    }
   ],
   "source": [
    "by_age.age.max()"
   ]
  },
  {
   "cell_type": "code",
   "execution_count": 134,
   "metadata": {},
   "outputs": [
    {
     "data": {
      "text/plain": [
       "17.38082191780822"
      ]
     },
     "execution_count": 134,
     "metadata": {},
     "output_type": "execute_result"
    }
   ],
   "source": [
    "by_age.age.min()"
   ]
  },
  {
   "cell_type": "code",
   "execution_count": 135,
   "metadata": {},
   "outputs": [],
   "source": [
    "times_age = by_age.winning_times\n",
    "age = by_age.age"
   ]
  },
  {
   "cell_type": "code",
   "execution_count": 136,
   "metadata": {},
   "outputs": [
    {
     "data": {
      "text/plain": [
       "Text(0.5, 1.03, \"Men's 100m Sprint Times By Age\")"
      ]
     },
     "execution_count": 136,
     "metadata": {},
     "output_type": "execute_result"
    },
    {
     "data": {
      "image/png": "[encoded data removed]",
      "text/plain": [
       "<Figure size 864x576 with 1 Axes>"
      ]
     },
     "metadata": {},
     "output_type": "display_data"
    }
   ],
   "source": [
    "# plotting times by age, we observe a pattern around the lowest times which we further investigate\n",
    "def scatter(x,y): #takes two arrays\n",
    "    _=plt.figure(figsize=(12,8))\n",
    "    _=plt.plot(x, y, marker='.', linestyle='none')\n",
    "    _=plt.xlabel('Age')\n",
    "    _=plt.ylabel('Run Time (seconds)')\n",
    "    _=plt.title(\"Men's 100m Sprint Times By Age\", y=1.03)\n",
    "    return _\n",
    "scatter(age, times_age)"
   ]
  },
  {
   "cell_type": "code",
   "execution_count": 137,
   "metadata": {},
   "outputs": [
    {
     "name": "stdout",
     "output_type": "stream",
     "text": [
      "<class 'pandas.core.frame.DataFrame'>\n",
      "DatetimeIndex: 2810 entries, 2013-04-28 to 2016-07-05\n",
      "Data columns (total 5 columns):\n",
      "winning_times    2810 non-null float64\n",
      "tail_wind        2810 non-null float64\n",
      "birth_date       2810 non-null datetime64[ns]\n",
      "country          2810 non-null object\n",
      "age              2810 non-null float64\n",
      "dtypes: datetime64[ns](1), float64(3), object(1)\n",
      "memory usage: 131.7+ KB\n"
     ]
    }
   ],
   "source": [
    "by_age.info()"
   ]
  },
  {
   "cell_type": "code",
   "execution_count": 138,
   "metadata": {},
   "outputs": [],
   "source": [
    "# by_age.to_csv('df.csv')"
   ]
  },
  {
   "cell_type": "markdown",
   "metadata": {},
   "source": [
    "## Isolating lowest men's times by age"
   ]
  },
  {
   "cell_type": "code",
   "execution_count": 139,
   "metadata": {},
   "outputs": [
    {
     "data": {
      "text/html": [
       "<div>\n",
       "<style scoped>\n",
       "    .dataframe tbody tr th:only-of-type {\n",
       "        vertical-align: middle;\n",
       "    }\n",
       "\n",
       "    .dataframe tbody tr th {\n",
       "        vertical-align: top;\n",
       "    }\n",
       "\n",
       "    .dataframe thead th {\n",
       "        text-align: right;\n",
       "    }\n",
       "</style>\n",
       "<table border=\"1\" class=\"dataframe\">\n",
       "  <thead>\n",
       "    <tr style=\"text-align: right;\">\n",
       "      <th></th>\n",
       "      <th>winning_times</th>\n",
       "      <th>tail_wind</th>\n",
       "      <th>birth_date</th>\n",
       "      <th>country</th>\n",
       "      <th>age</th>\n",
       "    </tr>\n",
       "    <tr>\n",
       "      <th>date</th>\n",
       "      <th></th>\n",
       "      <th></th>\n",
       "      <th></th>\n",
       "      <th></th>\n",
       "      <th></th>\n",
       "    </tr>\n",
       "  </thead>\n",
       "  <tbody>\n",
       "    <tr>\n",
       "      <td>2013-04-28</td>\n",
       "      <td>10.01</td>\n",
       "      <td>0.9</td>\n",
       "      <td>1995-12-15</td>\n",
       "      <td>JPN</td>\n",
       "      <td>17.380822</td>\n",
       "    </tr>\n",
       "    <tr>\n",
       "      <td>2002-07-17</td>\n",
       "      <td>10.09</td>\n",
       "      <td>-0.6</td>\n",
       "      <td>1984-11-10</td>\n",
       "      <td>TTO</td>\n",
       "      <td>17.693151</td>\n",
       "    </tr>\n",
       "    <tr>\n",
       "      <td>2018-02-06</td>\n",
       "      <td>10.09</td>\n",
       "      <td>0.9</td>\n",
       "      <td>2000-05-09</td>\n",
       "      <td>USA</td>\n",
       "      <td>17.758904</td>\n",
       "    </tr>\n",
       "    <tr>\n",
       "      <td>2017-04-08</td>\n",
       "      <td>10.05</td>\n",
       "      <td>-0.6</td>\n",
       "      <td>1999-06-03</td>\n",
       "      <td>JPN</td>\n",
       "      <td>17.860274</td>\n",
       "    </tr>\n",
       "    <tr>\n",
       "      <td>2008-06-28</td>\n",
       "      <td>10.01</td>\n",
       "      <td>1.6</td>\n",
       "      <td>1990-08-01</td>\n",
       "      <td>USA</td>\n",
       "      <td>17.920548</td>\n",
       "    </tr>\n",
       "  </tbody>\n",
       "</table>\n",
       "</div>"
      ],
      "text/plain": [
       "            winning_times  tail_wind birth_date country        age\n",
       "date                                                              \n",
       "2013-04-28          10.01        0.9 1995-12-15     JPN  17.380822\n",
       "2002-07-17          10.09       -0.6 1984-11-10     TTO  17.693151\n",
       "2018-02-06          10.09        0.9 2000-05-09     USA  17.758904\n",
       "2017-04-08          10.05       -0.6 1999-06-03     JPN  17.860274\n",
       "2008-06-28          10.01        1.6 1990-08-01     USA  17.920548"
      ]
     },
     "execution_count": 139,
     "metadata": {},
     "output_type": "execute_result"
    }
   ],
   "source": [
    "by_age.head()"
   ]
  },
  {
   "cell_type": "code",
   "execution_count": 140,
   "metadata": {},
   "outputs": [],
   "source": [
    "by_age['clean_age'] = by_age.age.apply(lambda x: round(x,0))"
   ]
  },
  {
   "cell_type": "code",
   "execution_count": 141,
   "metadata": {},
   "outputs": [
    {
     "data": {
      "text/html": [
       "<div>\n",
       "<style scoped>\n",
       "    .dataframe tbody tr th:only-of-type {\n",
       "        vertical-align: middle;\n",
       "    }\n",
       "\n",
       "    .dataframe tbody tr th {\n",
       "        vertical-align: top;\n",
       "    }\n",
       "\n",
       "    .dataframe thead th {\n",
       "        text-align: right;\n",
       "    }\n",
       "</style>\n",
       "<table border=\"1\" class=\"dataframe\">\n",
       "  <thead>\n",
       "    <tr style=\"text-align: right;\">\n",
       "      <th></th>\n",
       "      <th>winning_times</th>\n",
       "      <th>tail_wind</th>\n",
       "      <th>birth_date</th>\n",
       "      <th>country</th>\n",
       "      <th>age</th>\n",
       "      <th>clean_age</th>\n",
       "    </tr>\n",
       "    <tr>\n",
       "      <th>date</th>\n",
       "      <th></th>\n",
       "      <th></th>\n",
       "      <th></th>\n",
       "      <th></th>\n",
       "      <th></th>\n",
       "      <th></th>\n",
       "    </tr>\n",
       "  </thead>\n",
       "  <tbody>\n",
       "    <tr>\n",
       "      <td>2013-04-28</td>\n",
       "      <td>10.01</td>\n",
       "      <td>0.9</td>\n",
       "      <td>1995-12-15</td>\n",
       "      <td>JPN</td>\n",
       "      <td>17.380822</td>\n",
       "      <td>17.0</td>\n",
       "    </tr>\n",
       "    <tr>\n",
       "      <td>2002-07-17</td>\n",
       "      <td>10.09</td>\n",
       "      <td>-0.6</td>\n",
       "      <td>1984-11-10</td>\n",
       "      <td>TTO</td>\n",
       "      <td>17.693151</td>\n",
       "      <td>18.0</td>\n",
       "    </tr>\n",
       "    <tr>\n",
       "      <td>2018-02-06</td>\n",
       "      <td>10.09</td>\n",
       "      <td>0.9</td>\n",
       "      <td>2000-05-09</td>\n",
       "      <td>USA</td>\n",
       "      <td>17.758904</td>\n",
       "      <td>18.0</td>\n",
       "    </tr>\n",
       "    <tr>\n",
       "      <td>2017-04-08</td>\n",
       "      <td>10.05</td>\n",
       "      <td>-0.6</td>\n",
       "      <td>1999-06-03</td>\n",
       "      <td>JPN</td>\n",
       "      <td>17.860274</td>\n",
       "      <td>18.0</td>\n",
       "    </tr>\n",
       "    <tr>\n",
       "      <td>2008-06-28</td>\n",
       "      <td>10.01</td>\n",
       "      <td>1.6</td>\n",
       "      <td>1990-08-01</td>\n",
       "      <td>USA</td>\n",
       "      <td>17.920548</td>\n",
       "      <td>18.0</td>\n",
       "    </tr>\n",
       "  </tbody>\n",
       "</table>\n",
       "</div>"
      ],
      "text/plain": [
       "            winning_times  tail_wind birth_date country        age  clean_age\n",
       "date                                                                         \n",
       "2013-04-28          10.01        0.9 1995-12-15     JPN  17.380822       17.0\n",
       "2002-07-17          10.09       -0.6 1984-11-10     TTO  17.693151       18.0\n",
       "2018-02-06          10.09        0.9 2000-05-09     USA  17.758904       18.0\n",
       "2017-04-08          10.05       -0.6 1999-06-03     JPN  17.860274       18.0\n",
       "2008-06-28          10.01        1.6 1990-08-01     USA  17.920548       18.0"
      ]
     },
     "execution_count": 141,
     "metadata": {},
     "output_type": "execute_result"
    }
   ],
   "source": [
    "by_age.head()"
   ]
  },
  {
   "cell_type": "code",
   "execution_count": 142,
   "metadata": {},
   "outputs": [
    {
     "data": {
      "text/plain": [
       "clean_age\n",
       "17.0    10.01\n",
       "18.0    10.01\n",
       "19.0     9.97\n",
       "20.0     9.84\n",
       "21.0     9.82\n",
       "22.0     9.69\n",
       "23.0     9.58\n",
       "24.0     9.77\n",
       "25.0     9.72\n",
       "26.0     9.63\n",
       "27.0     9.69\n",
       "28.0     9.78\n",
       "29.0     9.78\n",
       "30.0     9.79\n",
       "31.0     9.80\n",
       "32.0     9.77\n",
       "33.0     9.74\n",
       "34.0     9.89\n",
       "35.0     9.92\n",
       "36.0     9.97\n",
       "37.0     9.87\n",
       "38.0     9.96\n",
       "39.0     9.98\n",
       "40.0     9.93\n",
       "Name: winning_times, dtype: float64"
      ]
     },
     "execution_count": 142,
     "metadata": {},
     "output_type": "execute_result"
    }
   ],
   "source": [
    "min_by_age = by_age.groupby('clean_age')['winning_times'].min()\n",
    "min_by_age"
   ]
  },
  {
   "cell_type": "code",
   "execution_count": 143,
   "metadata": {},
   "outputs": [],
   "source": [
    "x = min_by_age.index"
   ]
  },
  {
   "cell_type": "code",
   "execution_count": 144,
   "metadata": {},
   "outputs": [],
   "source": [
    "y = min_by_age"
   ]
  },
  {
   "cell_type": "code",
   "execution_count": 145,
   "metadata": {
    "scrolled": true
   },
   "outputs": [
    {
     "data": {
      "image/png": "[encoded data removed]",
      "text/plain": [
       "<Figure size 432x288 with 1 Axes>"
      ]
     },
     "metadata": {},
     "output_type": "display_data"
    }
   ],
   "source": [
    "#lowest men's times by age shows a clear parabolic pattern\n",
    "#we believe we can use this pattern that shows an optimal age to achieve fastest times\n",
    "#to make assumption about the larger data set that means between test (optimal age range) and control (other) groups differ\n",
    "_=plt.plot(x, y, marker='.', linestyle='none')"
   ]
  },
  {
   "cell_type": "code",
   "execution_count": 146,
   "metadata": {},
   "outputs": [],
   "source": [
    "min_age, max_age = int(x.min()), int(x.max())"
   ]
  },
  {
   "cell_type": "code",
   "execution_count": 147,
   "metadata": {},
   "outputs": [
    {
     "data": {
      "text/plain": [
       "winning_times    2810\n",
       "tail_wind        2810\n",
       "birth_date       2810\n",
       "country          2810\n",
       "age              2810\n",
       "clean_age        2810\n",
       "dtype: int64"
      ]
     },
     "execution_count": 147,
     "metadata": {},
     "output_type": "execute_result"
    }
   ],
   "source": [
    "by_age.count()"
   ]
  },
  {
   "cell_type": "markdown",
   "metadata": {},
   "source": [
    "## Quadriatic equation: degree 2\n",
    "### y = ax**2 + bx + c"
   ]
  },
  {
   "cell_type": "code",
   "execution_count": 148,
   "metadata": {},
   "outputs": [],
   "source": [
    "poly_coefficients = np.polyfit(x,y,2)"
   ]
  },
  {
   "cell_type": "code",
   "execution_count": 149,
   "metadata": {},
   "outputs": [
    {
     "data": {
      "text/plain": [
       "array([ 2.15118577e-03, -1.19256719e-01,  1.13780215e+01])"
      ]
     },
     "execution_count": 149,
     "metadata": {},
     "output_type": "execute_result"
    }
   ],
   "source": [
    "poly_coefficients"
   ]
  },
  {
   "cell_type": "code",
   "execution_count": 150,
   "metadata": {},
   "outputs": [
    {
     "data": {
      "text/plain": [
       "Text(0.5, 1.03, \"Fastest Men's 100m Sprint Times By Age\")"
      ]
     },
     "execution_count": 150,
     "metadata": {},
     "output_type": "execute_result"
    },
    {
     "data": {
      "image/png": "[encoded data removed]",
      "text/plain": [
       "<Figure size 864x576 with 1 Axes>"
      ]
     },
     "metadata": {},
     "output_type": "display_data"
    }
   ],
   "source": [
    "def fit_poly(): #just function shell to call this specific figure\n",
    "    sns.set_style('whitegrid')\n",
    "    sns.set_context('talk')\n",
    "    x_new = np.linspace(min_age,max_age,100)\n",
    "    y_new = np.poly1d(poly_coefficients)\n",
    "    _=plt.figure(figsize = (12, 8))\n",
    "    _=plt.plot(x_new,y_new(x_new),x,y,'o')\n",
    "    _=plt.xlabel('Age')\n",
    "    _=plt.ylabel('Run Time (seconds)')\n",
    "    _=plt.title(\"Fastest Men's 100m Sprint Times By Age\", y=1.03)\n",
    "    return _\n",
    "\n",
    "fit_poly()"
   ]
  },
  {
   "cell_type": "code",
   "execution_count": 153,
   "metadata": {},
   "outputs": [
    {
     "name": "stdout",
     "output_type": "stream",
     "text": [
      "minimum of best fit curve is time of 9.725363043478266 and age 28. Therefore, we hypothesize optimal age range is 28+/-1 yr\n"
     ]
    }
   ],
   "source": [
    "lowest_time = y_new(min_age)\n",
    "best_age = min_age\n",
    "for age in range(min_age,max_age):\n",
    "    if lowest_time > y_new(age):\n",
    "        lowest_time = y_new(age)\n",
    "        best_age = age\n",
    "    \n",
    "print(f'minimum of best fit curve is time of {lowest_time} and age {best_age}. Therefore, we hypothesize optimal age range is 28+/-1 yr')"
   ]
  },
  {
   "cell_type": "markdown",
   "metadata": {},
   "source": [
    "### Ho: there is no difference in mean run time between age group 27-29 and other ages\n",
    "### Ha: mean run time for age group 27-29 is lower than mean run time for other ages"
   ]
  },
  {
   "cell_type": "code",
   "execution_count": 154,
   "metadata": {},
   "outputs": [],
   "source": [
    "other_ages = (by_age.age < 27) | (by_age.age > 29) #filter times for ages not 27-29"
   ]
  },
  {
   "cell_type": "code",
   "execution_count": 155,
   "metadata": {},
   "outputs": [
    {
     "data": {
      "text/plain": [
       "2501"
      ]
     },
     "execution_count": 155,
     "metadata": {},
     "output_type": "execute_result"
    }
   ],
   "source": [
    "ctrl_ages = np.array(by_age[other_ages].winning_times)\n",
    "len(ctrl_ages)"
   ]
  },
  {
   "cell_type": "code",
   "execution_count": 156,
   "metadata": {},
   "outputs": [],
   "source": [
    "target_ages = (by_age.age >=27) & (by_age.age <=29) # filter times for ages 27-29"
   ]
  },
  {
   "cell_type": "code",
   "execution_count": 157,
   "metadata": {},
   "outputs": [
    {
     "data": {
      "text/plain": [
       "309"
      ]
     },
     "execution_count": 157,
     "metadata": {},
     "output_type": "execute_result"
    }
   ],
   "source": [
    "expr_ages = np.array(by_age[target_ages].winning_times)\n",
    "len(expr_ages)"
   ]
  },
  {
   "cell_type": "code",
   "execution_count": 158,
   "metadata": {},
   "outputs": [
    {
     "data": {
      "text/plain": [
       "Ttest_indResult(statistic=1.2256981958196693, pvalue=0.22106171543260286)"
      ]
     },
     "execution_count": 158,
     "metadata": {},
     "output_type": "execute_result"
    }
   ],
   "source": [
    "#Welch's t-test\n",
    "stats.ttest_ind(ctrl_ages, expr_ages, equal_var=False)"
   ]
  },
  {
   "cell_type": "markdown",
   "metadata": {},
   "source": [
    "### FTR null that there is no difference in mean run time between 27-29 and other age groups"
   ]
  },
  {
   "cell_type": "code",
   "execution_count": null,
   "metadata": {},
   "outputs": [],
   "source": []
  }
 ],
 "metadata": {
  "kernelspec": {
   "display_name": "Python 3",
   "language": "python",
   "name": "python3"
  },
  "language_info": {
   "codemirror_mode": {
    "name": "ipython",
    "version": 3
   },
   "file_extension": ".py",
   "mimetype": "text/x-python",
   "name": "python",
   "nbconvert_exporter": "python",
   "pygments_lexer": "ipython3",
   "version": "3.6.9"
  }
 },
 "nbformat": 4,
 "nbformat_minor": 2
}
